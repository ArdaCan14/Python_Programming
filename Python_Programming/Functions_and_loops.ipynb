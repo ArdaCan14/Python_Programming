{
 "cells": [
  {
   "cell_type": "code",
   "execution_count": 1,
   "id": "85c258e8-48b5-4cdd-9bc5-7aede7e65581",
   "metadata": {},
   "outputs": [],
   "source": [
    "def square_x(x) :\n",
    "    print(x**2)"
   ]
  },
  {
   "cell_type": "code",
   "execution_count": 2,
   "id": "45c06120-94a7-4153-9f01-8df3ec0d71b2",
   "metadata": {},
   "outputs": [
    {
     "name": "stdout",
     "output_type": "stream",
     "text": [
      "25\n"
     ]
    }
   ],
   "source": [
    "square_x(5)"
   ]
  },
  {
   "cell_type": "code",
   "execution_count": 3,
   "id": "7afcdaa1-133d-4629-8f56-09dc4ee4096e",
   "metadata": {},
   "outputs": [],
   "source": [
    "def cube_x(x):\n",
    "    print(\"Cube that entered number = \" + str(x**3))"
   ]
  },
  {
   "cell_type": "code",
   "execution_count": 4,
   "id": "c14d69d2-9f99-495e-81af-906fb72353d0",
   "metadata": {},
   "outputs": [
    {
     "name": "stdout",
     "output_type": "stream",
     "text": [
      "Cube that entered number = 512\n"
     ]
    }
   ],
   "source": [
    "cube_x(8)"
   ]
  },
  {
   "cell_type": "code",
   "execution_count": 8,
   "id": "67357481-e9db-41da-96f1-10b0680771ff",
   "metadata": {},
   "outputs": [],
   "source": [
    "def sum(a,b):\n",
    "    print(str(a) + \"+\" + str(b) + \"=\" + str(a+b))"
   ]
  },
  {
   "cell_type": "code",
   "execution_count": 9,
   "id": "2bc47a39-fe64-4de5-8c5e-270f00ce0f62",
   "metadata": {},
   "outputs": [
    {
     "name": "stdout",
     "output_type": "stream",
     "text": [
      "5+6=11\n"
     ]
    }
   ],
   "source": [
    "sum(5,6)"
   ]
  },
  {
   "cell_type": "markdown",
   "id": "5efde866-811d-469e-b557-c6b0dcd3861f",
   "metadata": {},
   "source": [
    "## Default Value"
   ]
  },
  {
   "cell_type": "code",
   "execution_count": 10,
   "id": "b8a8a389-c99f-4c97-8361-657819298a02",
   "metadata": {},
   "outputs": [],
   "source": [
    "def multiply(a,b = 1):\n",
    "    print(a*b)"
   ]
  },
  {
   "cell_type": "code",
   "execution_count": 13,
   "id": "257dfc99-d411-4dba-8b51-e3dea1d07e00",
   "metadata": {},
   "outputs": [
    {
     "name": "stdout",
     "output_type": "stream",
     "text": [
      "9\n",
      "45\n",
      "70\n"
     ]
    }
   ],
   "source": [
    "multiply(9)\n",
    "multiply(9,5)\n",
    "multiply(a = 10,b = 7)"
   ]
  },
  {
   "cell_type": "markdown",
   "id": "b34f914a-dce0-4315-985d-0d4324742d4c",
   "metadata": {},
   "source": [
    "## Return "
   ]
  },
  {
   "cell_type": "code",
   "execution_count": 14,
   "id": "ed607a76-0baa-4293-bc10-8c84fe32f9ee",
   "metadata": {},
   "outputs": [],
   "source": [
    "def multiply(a,b,c):\n",
    "    return a*b*c"
   ]
  },
  {
   "cell_type": "code",
   "execution_count": 15,
   "id": "721eb73e-418d-44d2-97d9-06f930406f8d",
   "metadata": {},
   "outputs": [
    {
     "name": "stdout",
     "output_type": "stream",
     "text": [
      "240\n"
     ]
    }
   ],
   "source": [
    "outcome = multiply(5,6,8)\n",
    "print(outcome)"
   ]
  },
  {
   "cell_type": "code",
   "execution_count": 16,
   "id": "4d3971c5-116d-492c-b9aa-86fdf104fdef",
   "metadata": {},
   "outputs": [],
   "source": [
    "def square(x):\n",
    "    return x**2"
   ]
  },
  {
   "cell_type": "code",
   "execution_count": 21,
   "id": "76f7e8aa-8baa-4ade-97d2-6286b71b3b5a",
   "metadata": {},
   "outputs": [
    {
     "name": "stdin",
     "output_type": "stream",
     "text": [
      "Enter a number =  10\n"
     ]
    },
    {
     "name": "stdout",
     "output_type": "stream",
     "text": [
      "10*10=100\n"
     ]
    }
   ],
   "source": [
    "number = int(input(\"Enter a number = \"))\n",
    "print(str(number) + \"*\" + str(number) + \"=\" +str(square(number)))"
   ]
  },
  {
   "cell_type": "markdown",
   "id": "b4e52a8c-f258-4617-a6d3-0f8adbb3b70e",
   "metadata": {},
   "source": [
    "## Local and Global Fields"
   ]
  },
  {
   "cell_type": "code",
   "execution_count": 2,
   "id": "dcc828aa-d254-436f-920b-3333e0d1bb0f",
   "metadata": {},
   "outputs": [],
   "source": [
    "x = []\n",
    "def add_element(i):\n",
    "    x.append(i)\n",
    "    print(str(i) + \" added to list\")\n",
    "    print(x)"
   ]
  },
  {
   "cell_type": "code",
   "execution_count": 3,
   "id": "d2c99015-d17a-4acc-8354-a6f1b857b01c",
   "metadata": {},
   "outputs": [
    {
     "name": "stdout",
     "output_type": "stream",
     "text": [
      "15 added to list\n",
      "[15]\n"
     ]
    }
   ],
   "source": [
    "add_element(15)"
   ]
  },
  {
   "cell_type": "code",
   "execution_count": 4,
   "id": "651e4108-2ad4-45c3-aa70-2113ada619fc",
   "metadata": {},
   "outputs": [
    {
     "name": "stdout",
     "output_type": "stream",
     "text": [
      "10 added to list\n",
      "[15, 10]\n"
     ]
    }
   ],
   "source": [
    "add_element(10)"
   ]
  },
  {
   "cell_type": "markdown",
   "id": "9e473e93-c010-4bd7-8d0f-352c5dcf21bc",
   "metadata": {},
   "source": [
    "## True-False"
   ]
  },
  {
   "cell_type": "code",
   "execution_count": 5,
   "id": "bddc9493-0580-49e0-8830-d57af3c0376f",
   "metadata": {},
   "outputs": [
    {
     "data": {
      "text/plain": [
       "False"
      ]
     },
     "execution_count": 5,
     "metadata": {},
     "output_type": "execute_result"
    }
   ],
   "source": [
    "rage = 5000\n",
    "rage == 4000"
   ]
  },
  {
   "cell_type": "code",
   "execution_count": 6,
   "id": "b3580136-3b47-4f88-85e9-652581e757ed",
   "metadata": {},
   "outputs": [
    {
     "data": {
      "text/plain": [
       "True"
      ]
     },
     "execution_count": 6,
     "metadata": {},
     "output_type": "execute_result"
    }
   ],
   "source": [
    "rage != 7000"
   ]
  },
  {
   "cell_type": "markdown",
   "id": "fc1fc26d-0fc7-4b22-967d-8e9a68c310fc",
   "metadata": {},
   "source": [
    "## if-else-elif"
   ]
  },
  {
   "cell_type": "code",
   "execution_count": 11,
   "id": "ce068fb1-301f-4668-806b-1ba699b6f086",
   "metadata": {},
   "outputs": [],
   "source": [
    "income = 4000\n",
    "expense = 5000"
   ]
  },
  {
   "cell_type": "code",
   "execution_count": 12,
   "id": "cb6d37e5-29bb-47a0-9bf7-bc6793b8fe05",
   "metadata": {},
   "outputs": [
    {
     "name": "stdout",
     "output_type": "stream",
     "text": [
      "Store is about to go bankrupt!\n"
     ]
    }
   ],
   "source": [
    "if income < expense:\n",
    "    print(\"Store is about to go bankrupt!\")"
   ]
  },
  {
   "cell_type": "code",
   "execution_count": 13,
   "id": "64fa5c69-1319-45a9-a765-2d394f141bb6",
   "metadata": {},
   "outputs": [
    {
     "name": "stdout",
     "output_type": "stream",
     "text": [
      "Store is about to go bankrupt!!\n"
     ]
    }
   ],
   "source": [
    "if income > expense:\n",
    "    print(\"Store is going well!\")\n",
    "else:\n",
    "    print(\"Store is about to go bankrupt!!\")"
   ]
  },
  {
   "cell_type": "code",
   "execution_count": 14,
   "id": "d23a1847-4e47-4298-8bee-18065d2e5e95",
   "metadata": {},
   "outputs": [
    {
     "name": "stdin",
     "output_type": "stream",
     "text": [
      "Please enter your store's expense =  10\n",
      "Please enter your store's income =  50\n"
     ]
    },
    {
     "name": "stdout",
     "output_type": "stream",
     "text": [
      "Your profit = 40.0 Your store is processing well.\n"
     ]
    }
   ],
   "source": [
    "expense = float(input(\"Please enter your store's expense = \"))\n",
    "income = float(input(\"Please enter your store's income = \"))\n",
    "\n",
    "if income > expense:\n",
    "    print(\"Your profit = \" + str(income - expense) + \" Your store is processing well.\")\n",
    "elif income == expense:\n",
    "    print(\"Your profit is = \" + str(income-expense) + \" Your store is limit value.\")\n",
    "else:\n",
    "    print(\"Your profit is = \" + str(income-expense) + \" Your store is about to go bankrupt!\") "
   ]
  },
  {
   "cell_type": "code",
   "execution_count": 7,
   "id": "aae73250-51e0-421f-bcc5-2bb42ed5add4",
   "metadata": {},
   "outputs": [],
   "source": [
    "wages = [1000,2000,5000,6000,10000,8400,9785,13021]\n",
    "new_wages = []\n",
    "def get_raise():\n",
    "    for i in wages:\n",
    "        new_wages.append((i*20/100) + i) \n",
    "    return new_wages"
   ]
  },
  {
   "cell_type": "code",
   "execution_count": 8,
   "id": "ecaf67a6-0a19-449c-8172-761bdb23fae2",
   "metadata": {},
   "outputs": [
    {
     "name": "stdout",
     "output_type": "stream",
     "text": [
      "[1200.0, 2400.0, 6000.0, 7200.0, 12000.0, 10080.0, 11742.0, 15625.2]\n"
     ]
    }
   ],
   "source": [
    "print(get_raise())"
   ]
  },
  {
   "cell_type": "code",
   "execution_count": 9,
   "id": "98aea1b2-6584-4142-bf95-f55094d154fd",
   "metadata": {},
   "outputs": [],
   "source": [
    "wages = [1000,2000,5000,6000,10000,8400,9785,13021]\n",
    "def get_raise():\n",
    "    for i in wages:\n",
    "        wages[i] = wages[i] * 20/100 + wages[i]\n",
    "    return wages[i]"
   ]
  },
  {
   "cell_type": "code",
   "execution_count": 11,
   "id": "acb5d53e-62ee-4c97-8076-619d3c3a1a46",
   "metadata": {},
   "outputs": [],
   "source": [
    "def get_raise2(x):\n",
    "    print(x*20/100 + x)"
   ]
  },
  {
   "cell_type": "code",
   "execution_count": 12,
   "id": "f72229f6-563b-4410-bf6f-3cd20d43cc5c",
   "metadata": {},
   "outputs": [
    {
     "name": "stdout",
     "output_type": "stream",
     "text": [
      "1200.0\n",
      "2400.0\n",
      "6000.0\n",
      "7200.0\n",
      "12000.0\n",
      "10080.0\n",
      "11742.0\n",
      "15625.2\n"
     ]
    }
   ],
   "source": [
    "for i in wages:\n",
    "    get_raise2(i)"
   ]
  },
  {
   "cell_type": "markdown",
   "id": "daa08db4-7da5-4b7b-85e9-caf54ed00230",
   "metadata": {},
   "source": [
    "## for-if-function"
   ]
  },
  {
   "cell_type": "code",
   "execution_count": 13,
   "id": "9c9a6504-4342-4080-b359-9c2349ab21d6",
   "metadata": {},
   "outputs": [],
   "source": [
    "wages = [1000,2000,5000,6000,10000,8400,9785,13021]\n",
    "def get_raise_ad(x):\n",
    "    if x < 5000:\n",
    "        return (x*50/100 + x)\n",
    "    elif 5000 >= x < 10000:\n",
    "        return (x*40/100 + x)\n",
    "    else:\n",
    "        return (x*35/100 + x)"
   ]
  },
  {
   "cell_type": "code",
   "execution_count": 16,
   "id": "2f55380a-59a4-438f-8121-f52c588dfbb7",
   "metadata": {},
   "outputs": [
    {
     "name": "stdout",
     "output_type": "stream",
     "text": [
      "1000 --------> 1500.0\n",
      "2000 --------> 3000.0\n",
      "5000 --------> 7000.0\n",
      "6000 --------> 8100.0\n",
      "10000 --------> 13500.0\n",
      "8400 --------> 11340.0\n",
      "9785 --------> 13209.75\n",
      "13021 --------> 17578.35\n"
     ]
    }
   ],
   "source": [
    "for i in wages:\n",
    "    print(str(i) + \" --------> \" + str(get_raise_ad(i)))"
   ]
  },
  {
   "cell_type": "markdown",
   "id": "1caab27b-1540-487a-a856-f3d3a548f6af",
   "metadata": {},
   "source": [
    "## break-continue"
   ]
  },
  {
   "cell_type": "code",
   "execution_count": 1,
   "id": "108cee24-654e-4193-92fc-8e23cef9bf26",
   "metadata": {},
   "outputs": [],
   "source": [
    "def add_element():\n",
    "    list1 = []\n",
    "    while(True):\n",
    "        x = int(input(\"Enter a number = \"))\n",
    "        if x == 0:\n",
    "            print(list1)\n",
    "            break\n",
    "        list1.append(x)"
   ]
  },
  {
   "cell_type": "code",
   "execution_count": 2,
   "id": "6f9443ee-e7da-4cb5-b80a-9c099d97d4dc",
   "metadata": {},
   "outputs": [
    {
     "name": "stdin",
     "output_type": "stream",
     "text": [
      "Enter a number =  10\n",
      "Enter a number =  20\n",
      "Enter a number =  30\n",
      "Enter a number =  40\n",
      "Enter a number =  50\n",
      "Enter a number =  0\n"
     ]
    },
    {
     "name": "stdout",
     "output_type": "stream",
     "text": [
      "[10, 20, 30, 40, 50]\n"
     ]
    }
   ],
   "source": [
    "add_element()"
   ]
  },
  {
   "cell_type": "code",
   "execution_count": 4,
   "id": "eb868cae-b85b-4d72-92d1-243413878bd0",
   "metadata": {},
   "outputs": [],
   "source": [
    "def is_prime(x):\n",
    "    for i in range(2,x):\n",
    "        if x % i == 0:\n",
    "            return 0\n",
    "    return 1"
   ]
  },
  {
   "cell_type": "code",
   "execution_count": 7,
   "id": "3120b723-f20d-45ba-ab40-e30a401b4f47",
   "metadata": {},
   "outputs": [
    {
     "name": "stdin",
     "output_type": "stream",
     "text": [
      "Enter a number =  12\n"
     ]
    },
    {
     "name": "stdout",
     "output_type": "stream",
     "text": [
      "Not prime\n"
     ]
    },
    {
     "name": "stdin",
     "output_type": "stream",
     "text": [
      "Enter a number =  11\n"
     ]
    },
    {
     "name": "stdout",
     "output_type": "stream",
     "text": [
      "Prime\n"
     ]
    },
    {
     "name": "stdin",
     "output_type": "stream",
     "text": [
      "Enter a number =  4\n"
     ]
    },
    {
     "name": "stdout",
     "output_type": "stream",
     "text": [
      "Not prime\n"
     ]
    },
    {
     "name": "stdin",
     "output_type": "stream",
     "text": [
      "Enter a number =  5\n"
     ]
    },
    {
     "name": "stdout",
     "output_type": "stream",
     "text": [
      "Prime\n"
     ]
    },
    {
     "name": "stdin",
     "output_type": "stream",
     "text": [
      "Enter a number =  0\n"
     ]
    },
    {
     "name": "stdout",
     "output_type": "stream",
     "text": [
      "Prime\n"
     ]
    }
   ],
   "source": [
    "while(True):\n",
    "    x = int(input(\"Enter a number = \"))\n",
    "    if is_prime(x) == 0:\n",
    "            print(\"Not prime\")\n",
    "    \n",
    "    else:\n",
    "        print(\"Prime\")\n",
    "\n",
    "    if x == 0:\n",
    "        break"
   ]
  },
  {
   "cell_type": "code",
   "execution_count": 11,
   "id": "86c93b91-35c9-4903-828c-fe2581307b31",
   "metadata": {},
   "outputs": [],
   "source": [
    "def is_prime(x):\n",
    "    if x == 1:\n",
    "        return 0\n",
    "    elif x == 2:\n",
    "        return 1\n",
    "    else:\n",
    "        for i in range(2,x):\n",
    "            if x % i == 0:\n",
    "                return 0\n",
    "        return 1    "
   ]
  },
  {
   "cell_type": "code",
   "execution_count": 13,
   "id": "da887cec-8f6a-4086-a089-9eb63cbc3a13",
   "metadata": {},
   "outputs": [
    {
     "name": "stdout",
     "output_type": "stream",
     "text": [
      "Prime numbers of the list = \n",
      "2\n",
      "31\n",
      "73\n",
      "89\n",
      "5\n",
      "13\n",
      "43\n",
      "17\n",
      "19\n",
      "241\n",
      "541\n"
     ]
    }
   ],
   "source": [
    "list1 = [2,78,62,31,54,74,73,84,89,87,5,6,1,13,64,99,43,55,17,19,111,241,541]\n",
    "print(\"Prime numbers of the list = \")\n",
    "for i in list1:\n",
    "    if is_prime(i) == 1:\n",
    "        print(i)\n",
    "    "
   ]
  },
  {
   "cell_type": "code",
   "execution_count": 19,
   "id": "3aa6e3b8-73da-4bbb-a33b-8cdfe4ba76d5",
   "metadata": {},
   "outputs": [
    {
     "name": "stdout",
     "output_type": "stream",
     "text": [
      "[2, 5, 13, 17, 19, 31, 43, 73, 89, 241, 541]\n"
     ]
    }
   ],
   "source": [
    "list1 = [2,78,62,31,54,74,73,84,89,87,5,6,1,13,64,99,43,55,17,19,111,241,541]\n",
    "list2 = []\n",
    "for i in list1:\n",
    "    if is_prime(i) == 1:\n",
    "        list2.append(i)\n",
    "list2.sort()\n",
    "print(list2)"
   ]
  },
  {
   "cell_type": "code",
   "execution_count": null,
   "id": "41ddf19a-7af0-4005-a40c-44e306d7033b",
   "metadata": {},
   "outputs": [],
   "source": []
  }
 ],
 "metadata": {
  "kernelspec": {
   "display_name": "Python 3 (ipykernel)",
   "language": "python",
   "name": "python3"
  },
  "language_info": {
   "codemirror_mode": {
    "name": "ipython",
    "version": 3
   },
   "file_extension": ".py",
   "mimetype": "text/x-python",
   "name": "python",
   "nbconvert_exporter": "python",
   "pygments_lexer": "ipython3",
   "version": "3.11.7"
  }
 },
 "nbformat": 4,
 "nbformat_minor": 5
}
