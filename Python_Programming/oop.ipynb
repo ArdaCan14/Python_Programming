{
 "cells": [
  {
   "cell_type": "code",
   "execution_count": 1,
   "id": "9f4943e7-afb6-476b-8b36-4c5e6f4d9290",
   "metadata": {},
   "outputs": [],
   "source": [
    "class DataScientist():\n",
    "    departmant = \"\"\n",
    "    sql = \"yes\"\n",
    "    experience = 0\n",
    "    languages = []"
   ]
  },
  {
   "cell_type": "code",
   "execution_count": 2,
   "id": "b4290503-1bc4-4400-b715-02fd8e670d45",
   "metadata": {},
   "outputs": [
    {
     "data": {
      "text/plain": [
       "'yes'"
      ]
     },
     "execution_count": 2,
     "metadata": {},
     "output_type": "execute_result"
    }
   ],
   "source": [
    "DataScientist.sql"
   ]
  },
  {
   "cell_type": "code",
   "execution_count": 3,
   "id": "ea4fa8c0-3a32-4e00-8121-fd36955d686d",
   "metadata": {},
   "outputs": [
    {
     "data": {
      "text/plain": [
       "[]"
      ]
     },
     "execution_count": 3,
     "metadata": {},
     "output_type": "execute_result"
    }
   ],
   "source": [
    "DataScientist.languages"
   ]
  },
  {
   "cell_type": "code",
   "execution_count": 4,
   "id": "401d73ac-a178-420f-b76a-c42ae4e476f7",
   "metadata": {},
   "outputs": [],
   "source": [
    "DataScientist.sql = \"no\""
   ]
  },
  {
   "cell_type": "code",
   "execution_count": 5,
   "id": "bbdbf173-f392-4d4e-8a23-7d291c8949c2",
   "metadata": {},
   "outputs": [
    {
     "data": {
      "text/plain": [
       "'no'"
      ]
     },
     "execution_count": 5,
     "metadata": {},
     "output_type": "execute_result"
    }
   ],
   "source": [
    "DataScientist.sql"
   ]
  },
  {
   "cell_type": "markdown",
   "id": "187ab72a-78b8-4a53-8eac-eecbc2acaa07",
   "metadata": {},
   "source": [
    "## Class Instantiation"
   ]
  },
  {
   "cell_type": "code",
   "execution_count": 6,
   "id": "e5cfb58c-022e-4d6a-a311-f1ebfbc0994c",
   "metadata": {},
   "outputs": [],
   "source": [
    "arda = DataScientist()"
   ]
  },
  {
   "cell_type": "code",
   "execution_count": 7,
   "id": "bd502f28-57d9-4b5d-9ae5-48121064a521",
   "metadata": {},
   "outputs": [
    {
     "data": {
      "text/plain": [
       "'no'"
      ]
     },
     "execution_count": 7,
     "metadata": {},
     "output_type": "execute_result"
    }
   ],
   "source": [
    "arda.sql"
   ]
  },
  {
   "cell_type": "code",
   "execution_count": 8,
   "id": "f3f8b22d-a579-4630-9d04-2491465f196d",
   "metadata": {},
   "outputs": [
    {
     "data": {
      "text/plain": [
       "0"
      ]
     },
     "execution_count": 8,
     "metadata": {},
     "output_type": "execute_result"
    }
   ],
   "source": [
    "arda.experience"
   ]
  },
  {
   "cell_type": "code",
   "execution_count": 14,
   "id": "cf26b20c-7098-4914-af3d-41415bd56d8b",
   "metadata": {},
   "outputs": [],
   "source": [
    "arda.languages = []"
   ]
  },
  {
   "cell_type": "code",
   "execution_count": 16,
   "id": "25a857ad-1305-4f2b-b787-f51b18c0f094",
   "metadata": {},
   "outputs": [],
   "source": [
    "arda.languages.append(\"Python\")\n",
    "arda.languages.append(\"Java\")"
   ]
  },
  {
   "cell_type": "code",
   "execution_count": 17,
   "id": "4258dfe4-f88a-4b09-8df2-a17ba931799a",
   "metadata": {},
   "outputs": [
    {
     "data": {
      "text/plain": [
       "['Python', 'Python', 'Java']"
      ]
     },
     "execution_count": 17,
     "metadata": {},
     "output_type": "execute_result"
    }
   ],
   "source": [
    "arda.languages"
   ]
  },
  {
   "cell_type": "code",
   "execution_count": 18,
   "id": "3586eba9-b25f-487f-b5e1-c4b7b62207b1",
   "metadata": {},
   "outputs": [],
   "source": [
    "can = DataScientist()"
   ]
  },
  {
   "cell_type": "code",
   "execution_count": 19,
   "id": "f5a23aa5-8336-4303-872b-1812eebdcd3e",
   "metadata": {},
   "outputs": [
    {
     "data": {
      "text/plain": [
       "'no'"
      ]
     },
     "execution_count": 19,
     "metadata": {},
     "output_type": "execute_result"
    }
   ],
   "source": [
    "can.sql"
   ]
  },
  {
   "cell_type": "code",
   "execution_count": 20,
   "id": "1e9df62a-7b37-42a7-aefa-df323cb725e3",
   "metadata": {},
   "outputs": [
    {
     "data": {
      "text/plain": [
       "[['Python', 'Java'], ['Python']]"
      ]
     },
     "execution_count": 20,
     "metadata": {},
     "output_type": "execute_result"
    }
   ],
   "source": [
    "can.languages"
   ]
  },
  {
   "cell_type": "markdown",
   "id": "6ba6b985-76cf-41e1-8537-2f850b06a931",
   "metadata": {},
   "source": [
    "## Instance Features"
   ]
  },
  {
   "cell_type": "code",
   "execution_count": 41,
   "id": "2b35ef12-89a8-446c-8d3f-50da2665c245",
   "metadata": {},
   "outputs": [],
   "source": [
    "class DataScientist():\n",
    "    languages = [\"R\",\"Python\"]\n",
    "    departmant = \"\"\n",
    "    sql = \"yes\"\n",
    "    experience = 0\n",
    "    def __init__(self):\n",
    "        self.languages = []\n",
    "        self.departmant = \"\" "
   ]
  },
  {
   "cell_type": "code",
   "execution_count": 42,
   "id": "91cdf611-bbc6-47c0-8afe-78ad5c628b50",
   "metadata": {},
   "outputs": [],
   "source": [
    "ali = DataScientist()"
   ]
  },
  {
   "cell_type": "code",
   "execution_count": 43,
   "id": "65e2eaca-c9fe-4944-868e-009c98bc475e",
   "metadata": {},
   "outputs": [],
   "source": [
    "arda = DataScientist()"
   ]
  },
  {
   "cell_type": "code",
   "execution_count": 44,
   "id": "d8b79a25-af10-47e2-8f4b-768815484cb4",
   "metadata": {},
   "outputs": [
    {
     "data": {
      "text/plain": [
       "['Python']"
      ]
     },
     "execution_count": 44,
     "metadata": {},
     "output_type": "execute_result"
    }
   ],
   "source": [
    "ali.languages.append(\"Python\")\n",
    "ali.languages"
   ]
  },
  {
   "cell_type": "code",
   "execution_count": 45,
   "id": "2ceb71f1-f3c1-452f-8d0c-9d0289105af8",
   "metadata": {},
   "outputs": [
    {
     "data": {
      "text/plain": [
       "[]"
      ]
     },
     "execution_count": 45,
     "metadata": {},
     "output_type": "execute_result"
    }
   ],
   "source": [
    "arda.languages"
   ]
  },
  {
   "cell_type": "code",
   "execution_count": 46,
   "id": "0ef355c5-6afe-41b8-930c-7be550d0b377",
   "metadata": {},
   "outputs": [
    {
     "data": {
      "text/plain": [
       "['R']"
      ]
     },
     "execution_count": 46,
     "metadata": {},
     "output_type": "execute_result"
    }
   ],
   "source": [
    "arda.languages.append(\"R\")\n",
    "arda.languages"
   ]
  },
  {
   "cell_type": "code",
   "execution_count": 47,
   "id": "f1290e4a-dad5-400b-ba98-f9272a48cb97",
   "metadata": {},
   "outputs": [
    {
     "data": {
      "text/plain": [
       "['R', 'Python']"
      ]
     },
     "execution_count": 47,
     "metadata": {},
     "output_type": "execute_result"
    }
   ],
   "source": [
    "DataScientist.languages"
   ]
  },
  {
   "cell_type": "code",
   "execution_count": 48,
   "id": "d7acd450-cdf1-4d80-b44b-9403cf2b7973",
   "metadata": {},
   "outputs": [
    {
     "data": {
      "text/plain": [
       "'Software Engineering'"
      ]
     },
     "execution_count": 48,
     "metadata": {},
     "output_type": "execute_result"
    }
   ],
   "source": [
    "arda.departmant = \"Software Engineering\"\n",
    "arda.departmant"
   ]
  },
  {
   "cell_type": "code",
   "execution_count": 49,
   "id": "a7bb55d6-1c43-4826-88df-23627cbcd0e2",
   "metadata": {},
   "outputs": [
    {
     "data": {
      "text/plain": [
       "'Statistic'"
      ]
     },
     "execution_count": 49,
     "metadata": {},
     "output_type": "execute_result"
    }
   ],
   "source": [
    "ali.departmant = \"Statistic\"\n",
    "ali.departmant"
   ]
  },
  {
   "cell_type": "code",
   "execution_count": 50,
   "id": "3197c1b9-eeb1-4996-9304-b3c13b7d065c",
   "metadata": {},
   "outputs": [
    {
     "data": {
      "text/plain": [
       "''"
      ]
     },
     "execution_count": 50,
     "metadata": {},
     "output_type": "execute_result"
    }
   ],
   "source": [
    "DataScientist.departmant"
   ]
  },
  {
   "cell_type": "markdown",
   "id": "b9667996-307d-4a63-ac7f-8fe71087106d",
   "metadata": {},
   "source": [
    "## Instance Methods"
   ]
  },
  {
   "cell_type": "code",
   "execution_count": 57,
   "id": "1bb82f07-db76-4e1b-9045-fa24f92b034c",
   "metadata": {},
   "outputs": [],
   "source": [
    "class DataScientist():\n",
    "    emploees = [\"\"]\n",
    "    def __init__(self):\n",
    "        self.languages = []\n",
    "        self.departmant = \"\"\n",
    "    def add_language(self):\n",
    "        new_lang = input(\"Add Language : \")\n",
    "        self.languages.append(new_lang)"
   ]
  },
  {
   "cell_type": "code",
   "execution_count": 58,
   "id": "a37a6c42-3ad0-463c-a17d-96e1d6472fca",
   "metadata": {},
   "outputs": [
    {
     "data": {
      "text/plain": [
       "[]"
      ]
     },
     "execution_count": 58,
     "metadata": {},
     "output_type": "execute_result"
    }
   ],
   "source": [
    "arda = DataScientist()\n",
    "arda.languages"
   ]
  },
  {
   "cell_type": "code",
   "execution_count": 60,
   "id": "15d24e8c-0a1a-4737-a82e-e9e5e93b3675",
   "metadata": {},
   "outputs": [
    {
     "name": "stdin",
     "output_type": "stream",
     "text": [
      "Add Language :  Python\n"
     ]
    }
   ],
   "source": [
    "arda.add_language()"
   ]
  },
  {
   "cell_type": "code",
   "execution_count": 62,
   "id": "cafa0488-d6da-4feb-b48f-65d09bbbd41e",
   "metadata": {},
   "outputs": [
    {
     "data": {
      "text/plain": [
       "['Python']"
      ]
     },
     "execution_count": 62,
     "metadata": {},
     "output_type": "execute_result"
    }
   ],
   "source": [
    "arda.languages"
   ]
  },
  {
   "cell_type": "code",
   "execution_count": 63,
   "id": "f3411c6a-7a36-473a-ac82-abd09a2f0bb1",
   "metadata": {},
   "outputs": [
    {
     "name": "stdin",
     "output_type": "stream",
     "text": [
      "Add Language :  Java\n"
     ]
    }
   ],
   "source": [
    "arda.add_language()"
   ]
  },
  {
   "cell_type": "code",
   "execution_count": 64,
   "id": "e206b26b-1793-4c85-a7fd-d9c2cfe23b87",
   "metadata": {},
   "outputs": [
    {
     "data": {
      "text/plain": [
       "['Python', 'Java']"
      ]
     },
     "execution_count": 64,
     "metadata": {},
     "output_type": "execute_result"
    }
   ],
   "source": [
    "arda.languages"
   ]
  },
  {
   "cell_type": "code",
   "execution_count": 65,
   "id": "17b8650f-0a41-466b-b8be-7c3f81a1d582",
   "metadata": {
    "collapsed": true,
    "jupyter": {
     "outputs_hidden": true
    }
   },
   "outputs": [
    {
     "data": {
      "text/plain": [
       "['__class__',\n",
       " '__delattr__',\n",
       " '__dict__',\n",
       " '__dir__',\n",
       " '__doc__',\n",
       " '__eq__',\n",
       " '__format__',\n",
       " '__ge__',\n",
       " '__getattribute__',\n",
       " '__getstate__',\n",
       " '__gt__',\n",
       " '__hash__',\n",
       " '__init__',\n",
       " '__init_subclass__',\n",
       " '__le__',\n",
       " '__lt__',\n",
       " '__module__',\n",
       " '__ne__',\n",
       " '__new__',\n",
       " '__reduce__',\n",
       " '__reduce_ex__',\n",
       " '__repr__',\n",
       " '__setattr__',\n",
       " '__sizeof__',\n",
       " '__str__',\n",
       " '__subclasshook__',\n",
       " '__weakref__',\n",
       " 'add_language',\n",
       " 'emploees']"
      ]
     },
     "execution_count": 65,
     "metadata": {},
     "output_type": "execute_result"
    }
   ],
   "source": [
    "dir(DataScientist)"
   ]
  },
  {
   "cell_type": "markdown",
   "id": "342bc075-ae45-499f-ad5f-6899dbf85d3e",
   "metadata": {},
   "source": [
    "## Inheritance"
   ]
  },
  {
   "cell_type": "code",
   "execution_count": 77,
   "id": "b367229f-86e9-40f7-9676-eea63d325751",
   "metadata": {},
   "outputs": [],
   "source": [
    "class Employees():\n",
    "    def __init__(self,FirstName,SecondName,Address):\n",
    "        self.FirstName = \"\"\n",
    "        self.SecondName = \"\"\n",
    "        self.Address = \"\""
   ]
  },
  {
   "cell_type": "code",
   "execution_count": 78,
   "id": "110f5ba8-d501-4e0c-a6ce-03b98ddefc66",
   "metadata": {},
   "outputs": [],
   "source": [
    "class DataScientist(Employees):\n",
    "    def __init__(self):\n",
    "        self.Programming = \"\""
   ]
  },
  {
   "cell_type": "code",
   "execution_count": 79,
   "id": "f6097c47-5aaa-42b6-bb14-bdaca5cf0a77",
   "metadata": {},
   "outputs": [],
   "source": [
    "class Marketing(Employees):\n",
    "    def __init__(self):\n",
    "        self.Storytelling = \"\""
   ]
  },
  {
   "cell_type": "code",
   "execution_count": 80,
   "id": "b9e81023-41c1-4cfa-9943-05b1b6385e45",
   "metadata": {},
   "outputs": [],
   "source": [
    "datascientist1 = DataScientist()"
   ]
  },
  {
   "cell_type": "code",
   "execution_count": 83,
   "id": "3b1d8217-a301-4810-b7c3-98c5c8e4e2f2",
   "metadata": {},
   "outputs": [],
   "source": [
    "arda = Employees(\"a\",\"b\",\"c\")"
   ]
  },
  {
   "cell_type": "code",
   "execution_count": 84,
   "id": "1d7bc704-1a35-4ebc-9141-91150c1192e3",
   "metadata": {},
   "outputs": [
    {
     "data": {
      "text/plain": [
       "''"
      ]
     },
     "execution_count": 84,
     "metadata": {},
     "output_type": "execute_result"
    }
   ],
   "source": [
    "arda.FirstName"
   ]
  },
  {
   "cell_type": "code",
   "execution_count": null,
   "id": "09c219f4-e901-42b0-a992-f7914e7987c0",
   "metadata": {},
   "outputs": [],
   "source": []
  }
 ],
 "metadata": {
  "kernelspec": {
   "display_name": "Python 3 (ipykernel)",
   "language": "python",
   "name": "python3"
  },
  "language_info": {
   "codemirror_mode": {
    "name": "ipython",
    "version": 3
   },
   "file_extension": ".py",
   "mimetype": "text/x-python",
   "name": "python",
   "nbconvert_exporter": "python",
   "pygments_lexer": "ipython3",
   "version": "3.11.7"
  }
 },
 "nbformat": 4,
 "nbformat_minor": 5
}
