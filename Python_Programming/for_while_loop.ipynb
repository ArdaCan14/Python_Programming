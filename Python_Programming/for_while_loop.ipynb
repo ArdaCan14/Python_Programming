{
 "cells": [
  {
   "cell_type": "code",
   "execution_count": 1,
   "id": "9d64f214-a3c7-4a4e-92b7-478ddc74f517",
   "metadata": {},
   "outputs": [],
   "source": [
    "students = [\"Ali\",\"Ayşe\",\"Arda\",\"Fatma\",\"Elif\"]"
   ]
  },
  {
   "cell_type": "code",
   "execution_count": 2,
   "id": "745db3f5-ead1-4fc8-85d7-336babad9eab",
   "metadata": {},
   "outputs": [
    {
     "name": "stdout",
     "output_type": "stream",
     "text": [
      "Ali\n",
      "Ayşe\n",
      "Arda\n",
      "Fatma\n",
      "Elif\n"
     ]
    }
   ],
   "source": [
    "for i in students:\n",
    "    print(i)"
   ]
  },
  {
   "cell_type": "code",
   "execution_count": 3,
   "id": "1d2baee4-22a7-4dcb-b4e7-65697c3ee0a5",
   "metadata": {},
   "outputs": [],
   "source": [
    "wages = [5000,15555,36000,78632,11111,8000]"
   ]
  },
  {
   "cell_type": "code",
   "execution_count": 6,
   "id": "7235705f-e929-4128-a566-8510ef2c5b99",
   "metadata": {},
   "outputs": [
    {
     "name": "stdout",
     "output_type": "stream",
     "text": [
      "5000\n",
      "25000000\n",
      "25000\n",
      "15555\n",
      "241958025\n",
      "77775\n",
      "36000\n",
      "1296000000\n",
      "180000\n",
      "78632\n",
      "6182991424\n",
      "393160\n",
      "11111\n",
      "123454321\n",
      "55555\n",
      "8000\n",
      "64000000\n",
      "40000\n"
     ]
    }
   ],
   "source": [
    "for i in wages:\n",
    "    print(i)\n",
    "    print(i**2)\n",
    "    print(i*5)"
   ]
  },
  {
   "cell_type": "code",
   "execution_count": null,
   "id": "9f27be1c-6ee3-45fd-aa1f-b4e047762858",
   "metadata": {},
   "outputs": [],
   "source": []
  }
 ],
 "metadata": {
  "kernelspec": {
   "display_name": "Python 3 (ipykernel)",
   "language": "python",
   "name": "python3"
  },
  "language_info": {
   "codemirror_mode": {
    "name": "ipython",
    "version": 3
   },
   "file_extension": ".py",
   "mimetype": "text/x-python",
   "name": "python",
   "nbconvert_exporter": "python",
   "pygments_lexer": "ipython3",
   "version": "3.11.7"
  }
 },
 "nbformat": 4,
 "nbformat_minor": 5
}
