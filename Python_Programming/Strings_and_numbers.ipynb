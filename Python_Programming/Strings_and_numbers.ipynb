{
 "cells": [
  {
   "cell_type": "code",
   "execution_count": 1,
   "id": "7a2fbff9-e2b6-48fe-bc97-119ad30f7692",
   "metadata": {},
   "outputs": [
    {
     "data": {
      "text/plain": [
       "'ardacan'"
      ]
     },
     "execution_count": 1,
     "metadata": {},
     "output_type": "execute_result"
    }
   ],
   "source": [
    "\"arda\" + \"can\""
   ]
  },
  {
   "cell_type": "code",
   "execution_count": 2,
   "id": "6f54135f-ab78-4a18-b8d8-843f3a39a7ef",
   "metadata": {},
   "outputs": [
    {
     "name": "stdout",
     "output_type": "stream",
     "text": [
      "ardacan\n"
     ]
    }
   ],
   "source": [
    "print(\"arda\" + \"can\")"
   ]
  },
  {
   "cell_type": "code",
   "execution_count": 3,
   "id": "7fe05953-5972-4666-9364-4f13ddf27bb9",
   "metadata": {},
   "outputs": [
    {
     "data": {
      "text/plain": [
       "27"
      ]
     },
     "execution_count": 3,
     "metadata": {},
     "output_type": "execute_result"
    }
   ],
   "source": [
    "a = \"Arda is playing dead space.\"\n",
    "len(a)"
   ]
  },
  {
   "cell_type": "code",
   "execution_count": 4,
   "id": "629cb3d3-9329-4a63-8f62-5c4283ea0835",
   "metadata": {},
   "outputs": [
    {
     "name": "stdout",
     "output_type": "stream",
     "text": [
      "Arda is playing dead space.Arda is playing dead space.Arda is playing dead space.\n"
     ]
    }
   ],
   "source": [
    "print(a*3)"
   ]
  },
  {
   "cell_type": "code",
   "execution_count": 5,
   "id": "449e2c6f-346e-48af-a06f-3806ac73b7cd",
   "metadata": {},
   "outputs": [
    {
     "data": {
      "text/plain": [
       "81"
      ]
     },
     "execution_count": 5,
     "metadata": {},
     "output_type": "execute_result"
    }
   ],
   "source": [
    "len(a*3)"
   ]
  },
  {
   "cell_type": "code",
   "execution_count": 6,
   "id": "7a4049b1-8ab9-4d49-9124-07fd3b4e09e1",
   "metadata": {},
   "outputs": [
    {
     "name": "stdout",
     "output_type": "stream",
     "text": [
      "50\n"
     ]
    }
   ],
   "source": [
    "a = 10\n",
    "b = 5\n",
    "print(a*b)"
   ]
  },
  {
   "cell_type": "markdown",
   "id": "b4eb401b-9d74-4aa7-8419-ba3363503145",
   "metadata": {},
   "source": [
    "## Upper-Lower Cases"
   ]
  },
  {
   "cell_type": "code",
   "execution_count": 7,
   "id": "bb4d9e3b-5157-407a-8183-806ea8760600",
   "metadata": {},
   "outputs": [
    {
     "name": "stdout",
     "output_type": "stream",
     "text": [
      "ARDA LOVES PLAYING COMPUTER GAMES.\n"
     ]
    }
   ],
   "source": [
    "st = \"Arda loves playing computer games.\"\n",
    "print(st.upper())"
   ]
  },
  {
   "cell_type": "code",
   "execution_count": 8,
   "id": "581826d2-1f0b-482a-9594-995be33903c5",
   "metadata": {},
   "outputs": [
    {
     "name": "stdout",
     "output_type": "stream",
     "text": [
      "arda loves playing computer games.\n"
     ]
    }
   ],
   "source": [
    "print(st.lower())"
   ]
  },
  {
   "cell_type": "code",
   "execution_count": 9,
   "id": "0f8778b4-d46f-4e14-a80d-543f314a41ce",
   "metadata": {},
   "outputs": [
    {
     "data": {
      "text/plain": [
       "False"
      ]
     },
     "execution_count": 9,
     "metadata": {},
     "output_type": "execute_result"
    }
   ],
   "source": [
    "st.islower()"
   ]
  },
  {
   "cell_type": "code",
   "execution_count": 10,
   "id": "4bf6d4c7-c78d-4348-892a-2a843953e1b7",
   "metadata": {},
   "outputs": [
    {
     "data": {
      "text/plain": [
       "False"
      ]
     },
     "execution_count": 10,
     "metadata": {},
     "output_type": "execute_result"
    }
   ],
   "source": [
    "st.isupper()"
   ]
  },
  {
   "cell_type": "code",
   "execution_count": 11,
   "id": "1e8dc818-2728-4dc7-961e-4eb2446e87f4",
   "metadata": {},
   "outputs": [],
   "source": [
    "st2 = st.upper()"
   ]
  },
  {
   "cell_type": "code",
   "execution_count": 12,
   "id": "3ba55ba4-b093-455c-af55-5c39bc88590b",
   "metadata": {},
   "outputs": [
    {
     "data": {
      "text/plain": [
       "True"
      ]
     },
     "execution_count": 12,
     "metadata": {},
     "output_type": "execute_result"
    }
   ],
   "source": [
    "st2.isupper()"
   ]
  },
  {
   "cell_type": "markdown",
   "id": "e5325c29-97ae-4cdd-938b-e923420a53e4",
   "metadata": {},
   "source": [
    "## Replace method"
   ]
  },
  {
   "cell_type": "code",
   "execution_count": 13,
   "id": "aa1ee0cf-a07c-472d-bcb6-4a3f55afd19f",
   "metadata": {},
   "outputs": [
    {
     "data": {
      "text/plain": [
       "'Arda loves playing computer games.'"
      ]
     },
     "execution_count": 13,
     "metadata": {},
     "output_type": "execute_result"
    }
   ],
   "source": [
    "st"
   ]
  },
  {
   "cell_type": "code",
   "execution_count": 15,
   "id": "c501e6c6-da9f-4432-9988-b86ff6ddcec2",
   "metadata": {},
   "outputs": [
    {
     "name": "stdout",
     "output_type": "stream",
     "text": [
      "Erda loves playing computer games.\n"
     ]
    }
   ],
   "source": [
    "print(st.replace(\"A\",\"E\"))"
   ]
  },
  {
   "cell_type": "code",
   "execution_count": 16,
   "id": "80bbf55b-5289-4218-8072-6b8051f03654",
   "metadata": {},
   "outputs": [
    {
     "name": "stdout",
     "output_type": "stream",
     "text": [
      "Ardj loves pljying computer gjmes.\n"
     ]
    }
   ],
   "source": [
    "print(st.replace(\"a\",\"j\"))"
   ]
  },
  {
   "cell_type": "markdown",
   "id": "8ea927f9-a1e4-4986-b604-536e2291a570",
   "metadata": {},
   "source": [
    "## Strip method"
   ]
  },
  {
   "cell_type": "code",
   "execution_count": 18,
   "id": "20d1296b-d7e6-4929-8b7c-19af42536d81",
   "metadata": {},
   "outputs": [],
   "source": [
    "ar = \" Arda is gonna play Beyond Two Souls after he he finishes Dead Space. \""
   ]
  },
  {
   "cell_type": "code",
   "execution_count": 19,
   "id": "f8ac97a7-90e8-43bd-a8f7-47e536e51365",
   "metadata": {},
   "outputs": [
    {
     "data": {
      "text/plain": [
       "'Arda is gonna play Beyond Two Souls after he he finishes Dead Space.'"
      ]
     },
     "execution_count": 19,
     "metadata": {},
     "output_type": "execute_result"
    }
   ],
   "source": [
    "ar.strip()"
   ]
  },
  {
   "cell_type": "code",
   "execution_count": 21,
   "id": "d1c00ea1-6fcd-4a50-ae1c-54dc459640fd",
   "metadata": {},
   "outputs": [
    {
     "data": {
      "text/plain": [
       "'arda is gonna play Dead Space.'"
      ]
     },
     "execution_count": 21,
     "metadata": {},
     "output_type": "execute_result"
    }
   ],
   "source": [
    "ar2 = \"Iarda is gonna play Dead Space.I\"\n",
    "ar2.strip(\"I\")"
   ]
  },
  {
   "cell_type": "markdown",
   "id": "e4ebb90c-aa7b-4bc9-81b8-e4b7878f8c85",
   "metadata": {},
   "source": [
    "## Methods"
   ]
  },
  {
   "cell_type": "code",
   "execution_count": 22,
   "id": "f9284021-6f06-4f3c-b4df-2b3498f0f0b2",
   "metadata": {},
   "outputs": [
    {
     "data": {
      "text/plain": [
       "['__add__',\n",
       " '__class__',\n",
       " '__contains__',\n",
       " '__delattr__',\n",
       " '__dir__',\n",
       " '__doc__',\n",
       " '__eq__',\n",
       " '__format__',\n",
       " '__ge__',\n",
       " '__getattribute__',\n",
       " '__getitem__',\n",
       " '__getnewargs__',\n",
       " '__getstate__',\n",
       " '__gt__',\n",
       " '__hash__',\n",
       " '__init__',\n",
       " '__init_subclass__',\n",
       " '__iter__',\n",
       " '__le__',\n",
       " '__len__',\n",
       " '__lt__',\n",
       " '__mod__',\n",
       " '__mul__',\n",
       " '__ne__',\n",
       " '__new__',\n",
       " '__reduce__',\n",
       " '__reduce_ex__',\n",
       " '__repr__',\n",
       " '__rmod__',\n",
       " '__rmul__',\n",
       " '__setattr__',\n",
       " '__sizeof__',\n",
       " '__str__',\n",
       " '__subclasshook__',\n",
       " 'capitalize',\n",
       " 'casefold',\n",
       " 'center',\n",
       " 'count',\n",
       " 'encode',\n",
       " 'endswith',\n",
       " 'expandtabs',\n",
       " 'find',\n",
       " 'format',\n",
       " 'format_map',\n",
       " 'index',\n",
       " 'isalnum',\n",
       " 'isalpha',\n",
       " 'isascii',\n",
       " 'isdecimal',\n",
       " 'isdigit',\n",
       " 'isidentifier',\n",
       " 'islower',\n",
       " 'isnumeric',\n",
       " 'isprintable',\n",
       " 'isspace',\n",
       " 'istitle',\n",
       " 'isupper',\n",
       " 'join',\n",
       " 'ljust',\n",
       " 'lower',\n",
       " 'lstrip',\n",
       " 'maketrans',\n",
       " 'partition',\n",
       " 'removeprefix',\n",
       " 'removesuffix',\n",
       " 'replace',\n",
       " 'rfind',\n",
       " 'rindex',\n",
       " 'rjust',\n",
       " 'rpartition',\n",
       " 'rsplit',\n",
       " 'rstrip',\n",
       " 'split',\n",
       " 'splitlines',\n",
       " 'startswith',\n",
       " 'strip',\n",
       " 'swapcase',\n",
       " 'title',\n",
       " 'translate',\n",
       " 'upper',\n",
       " 'zfill']"
      ]
     },
     "execution_count": 22,
     "metadata": {},
     "output_type": "execute_result"
    }
   ],
   "source": [
    "dir(ar)"
   ]
  },
  {
   "cell_type": "code",
   "execution_count": 24,
   "id": "3591da11-e155-41e9-82e8-612362ac9579",
   "metadata": {},
   "outputs": [
    {
     "data": {
      "text/plain": [
       "6"
      ]
     },
     "execution_count": 24,
     "metadata": {},
     "output_type": "execute_result"
    }
   ],
   "source": [
    "ar.count(\"a\")"
   ]
  },
  {
   "cell_type": "code",
   "execution_count": 26,
   "id": "0ac46e97-558c-4a25-833d-a8f4bc17d55a",
   "metadata": {},
   "outputs": [
    {
     "data": {
      "text/plain": [
       "' arda is gonna play beyond two souls after he he finishes dead space. '"
      ]
     },
     "execution_count": 26,
     "metadata": {},
     "output_type": "execute_result"
    }
   ],
   "source": [
    "ar.capitalize()"
   ]
  },
  {
   "cell_type": "code",
   "execution_count": 27,
   "id": "3aaf49fa-d391-4e2c-a3be-57eb67d7c802",
   "metadata": {},
   "outputs": [
    {
     "data": {
      "text/plain": [
       "' Arda Is Gonna Play Beyond Two Souls After He He Finishes Dead Space. '"
      ]
     },
     "execution_count": 27,
     "metadata": {},
     "output_type": "execute_result"
    }
   ],
   "source": [
    "ar.title()"
   ]
  },
  {
   "cell_type": "code",
   "execution_count": 33,
   "id": "2c044cfb-4912-452c-a3aa-5a2863507c9e",
   "metadata": {},
   "outputs": [
    {
     "data": {
      "text/plain": [
       "65"
      ]
     },
     "execution_count": 33,
     "metadata": {},
     "output_type": "execute_result"
    }
   ],
   "source": [
    "ar.rfind(\"a\")"
   ]
  },
  {
   "cell_type": "code",
   "execution_count": 32,
   "id": "79868d8e-b5de-4b44-a74f-da98ab73a67e",
   "metadata": {},
   "outputs": [
    {
     "data": {
      "text/plain": [
       "43"
      ]
     },
     "execution_count": 32,
     "metadata": {},
     "output_type": "execute_result"
    }
   ],
   "source": [
    "ar.find(\"he\")"
   ]
  },
  {
   "cell_type": "code",
   "execution_count": 34,
   "id": "59cb70ee-633a-4de7-9e14-2dd7d9f8efd6",
   "metadata": {},
   "outputs": [
    {
     "data": {
      "text/plain": [
       "1"
      ]
     },
     "execution_count": 34,
     "metadata": {},
     "output_type": "execute_result"
    }
   ],
   "source": [
    "ar.index(\"Arda\")"
   ]
  },
  {
   "cell_type": "code",
   "execution_count": 35,
   "id": "5c0fd432-d86a-4ae0-8483-5affc42b26a6",
   "metadata": {},
   "outputs": [
    {
     "data": {
      "text/plain": [
       "43"
      ]
     },
     "execution_count": 35,
     "metadata": {},
     "output_type": "execute_result"
    }
   ],
   "source": [
    "ar.index(\"he\")"
   ]
  },
  {
   "cell_type": "code",
   "execution_count": 37,
   "id": "e6358c86-4786-4672-8ebd-590836d5d19c",
   "metadata": {},
   "outputs": [
    {
     "data": {
      "text/plain": [
       "(' Arda is gonna play Beyond Two Souls after he he finishes Dead Sp',\n",
       " 'a',\n",
       " 'ce. ')"
      ]
     },
     "execution_count": 37,
     "metadata": {},
     "output_type": "execute_result"
    }
   ],
   "source": [
    "ar.rpartition(\"a\")"
   ]
  },
  {
   "cell_type": "code",
   "execution_count": 38,
   "id": "9844f5d0-28ca-4741-9e1f-7d06a39f2a56",
   "metadata": {},
   "outputs": [
    {
     "data": {
      "text/plain": [
       "(' Ard',\n",
       " 'a',\n",
       " ' is gonna play Beyond Two Souls after he he finishes Dead Space. ')"
      ]
     },
     "execution_count": 38,
     "metadata": {},
     "output_type": "execute_result"
    }
   ],
   "source": [
    "ar.partition(\"a\")"
   ]
  },
  {
   "cell_type": "markdown",
   "id": "ac06ec82-64a8-4000-a467-bf327ea4eb62",
   "metadata": {},
   "source": [
    "## Substrings"
   ]
  },
  {
   "cell_type": "code",
   "execution_count": 39,
   "id": "82bc5535-6e70-4a44-a402-a43ed662846f",
   "metadata": {},
   "outputs": [
    {
     "data": {
      "text/plain": [
       "' Arda is gonna play Beyond Two Souls after he he finishes Dead Space. '"
      ]
     },
     "execution_count": 39,
     "metadata": {},
     "output_type": "execute_result"
    }
   ],
   "source": [
    "ar"
   ]
  },
  {
   "cell_type": "code",
   "execution_count": 40,
   "id": "578a180f-bfac-483d-8ce8-3e2bb807fbe6",
   "metadata": {},
   "outputs": [
    {
     "data": {
      "text/plain": [
       "' '"
      ]
     },
     "execution_count": 40,
     "metadata": {},
     "output_type": "execute_result"
    }
   ],
   "source": [
    "ar[0]"
   ]
  },
  {
   "cell_type": "code",
   "execution_count": 41,
   "id": "83da949c-9d32-4404-9b08-3c3de6e8be0b",
   "metadata": {},
   "outputs": [
    {
     "data": {
      "text/plain": [
       "'d'"
      ]
     },
     "execution_count": 41,
     "metadata": {},
     "output_type": "execute_result"
    }
   ],
   "source": [
    "ar[3]"
   ]
  },
  {
   "cell_type": "code",
   "execution_count": 42,
   "id": "5b1ded49-7e9a-4a5e-88b7-1fc5c00646a7",
   "metadata": {},
   "outputs": [
    {
     "data": {
      "text/plain": [
       "'a is gonna '"
      ]
     },
     "execution_count": 42,
     "metadata": {},
     "output_type": "execute_result"
    }
   ],
   "source": [
    "ar[4:15]"
   ]
  },
  {
   "cell_type": "code",
   "execution_count": 43,
   "id": "e506dc5d-9caa-42d1-99cc-4768ccad04ba",
   "metadata": {},
   "outputs": [
    {
     "data": {
      "text/plain": [
       "' Arda'"
      ]
     },
     "execution_count": 43,
     "metadata": {},
     "output_type": "execute_result"
    }
   ],
   "source": [
    "ar[0:5]"
   ]
  },
  {
   "cell_type": "markdown",
   "id": "35de6a6c-9b8d-44c5-80a2-2f5cd364e371",
   "metadata": {},
   "source": [
    "## Print()"
   ]
  },
  {
   "cell_type": "code",
   "execution_count": 46,
   "id": "a99955dd-f973-403d-8e2b-85bc212c2ba6",
   "metadata": {},
   "outputs": [
    {
     "name": "stdout",
     "output_type": "stream",
     "text": [
      "Arda  Can\n"
     ]
    }
   ],
   "source": [
    "print(\"Arda\",\" Can\")"
   ]
  },
  {
   "cell_type": "code",
   "execution_count": 47,
   "id": "e7108f3e-6b5f-40a8-81fc-5f03b8e1162a",
   "metadata": {},
   "outputs": [
    {
     "name": "stdout",
     "output_type": "stream",
     "text": [
      "Arda-Can\n"
     ]
    }
   ],
   "source": [
    "print(\"Arda\",\"Can\",sep = \"-\")"
   ]
  },
  {
   "cell_type": "code",
   "execution_count": 48,
   "id": "5306b9f8-231c-4e82-ab0a-a826727cc8d6",
   "metadata": {
    "collapsed": true,
    "jupyter": {
     "outputs_hidden": true
    },
    "scrolled": true
   },
   "outputs": [
    {
     "data": {
      "text/plain": [
       "['__call__',\n",
       " '__class__',\n",
       " '__delattr__',\n",
       " '__dir__',\n",
       " '__doc__',\n",
       " '__eq__',\n",
       " '__format__',\n",
       " '__ge__',\n",
       " '__getattribute__',\n",
       " '__getstate__',\n",
       " '__gt__',\n",
       " '__hash__',\n",
       " '__init__',\n",
       " '__init_subclass__',\n",
       " '__le__',\n",
       " '__lt__',\n",
       " '__module__',\n",
       " '__name__',\n",
       " '__ne__',\n",
       " '__new__',\n",
       " '__qualname__',\n",
       " '__reduce__',\n",
       " '__reduce_ex__',\n",
       " '__repr__',\n",
       " '__self__',\n",
       " '__setattr__',\n",
       " '__sizeof__',\n",
       " '__str__',\n",
       " '__subclasshook__',\n",
       " '__text_signature__']"
      ]
     },
     "execution_count": 48,
     "metadata": {},
     "output_type": "execute_result"
    }
   ],
   "source": [
    "dir(print)"
   ]
  },
  {
   "cell_type": "code",
   "execution_count": 51,
   "id": "2c3d5489-5314-4b01-9285-9791b62a2f43",
   "metadata": {},
   "outputs": [
    {
     "data": {
      "text/plain": [
       "\u001b[1;31mSignature:\u001b[0m \u001b[0mprint\u001b[0m\u001b[1;33m(\u001b[0m\u001b[1;33m*\u001b[0m\u001b[0margs\u001b[0m\u001b[1;33m,\u001b[0m \u001b[0msep\u001b[0m\u001b[1;33m=\u001b[0m\u001b[1;34m' '\u001b[0m\u001b[1;33m,\u001b[0m \u001b[0mend\u001b[0m\u001b[1;33m=\u001b[0m\u001b[1;34m'\\n'\u001b[0m\u001b[1;33m,\u001b[0m \u001b[0mfile\u001b[0m\u001b[1;33m=\u001b[0m\u001b[1;32mNone\u001b[0m\u001b[1;33m,\u001b[0m \u001b[0mflush\u001b[0m\u001b[1;33m=\u001b[0m\u001b[1;32mFalse\u001b[0m\u001b[1;33m)\u001b[0m\u001b[1;33m\u001b[0m\u001b[1;33m\u001b[0m\u001b[0m\n",
       "\u001b[1;31mDocstring:\u001b[0m\n",
       "Prints the values to a stream, or to sys.stdout by default.\n",
       "\n",
       "sep\n",
       "  string inserted between values, default a space.\n",
       "end\n",
       "  string appended after the last value, default a newline.\n",
       "file\n",
       "  a file-like object (stream); defaults to the current sys.stdout.\n",
       "flush\n",
       "  whether to forcibly flush the stream.\n",
       "\u001b[1;31mType:\u001b[0m      builtin_function_or_method"
      ]
     },
     "metadata": {},
     "output_type": "display_data"
    }
   ],
   "source": [
    "?print"
   ]
  },
  {
   "cell_type": "code",
   "execution_count": 52,
   "id": "526adf36-2d82-4927-b463-98187d1c48ca",
   "metadata": {},
   "outputs": [
    {
     "name": "stdout",
     "output_type": "stream",
     "text": [
      "Arda Can is Eager to be\n",
      "data scientist.\n"
     ]
    }
   ],
   "source": [
    "print(\"Arda Can is Eager to be\")\n",
    "print(\"data scientist.\")"
   ]
  },
  {
   "cell_type": "code",
   "execution_count": 53,
   "id": "978165cf-96d0-421e-9be4-bd6f4b6af149",
   "metadata": {},
   "outputs": [
    {
     "name": "stdout",
     "output_type": "stream",
     "text": [
      "Arda Can is eager to be data scientist.\n"
     ]
    }
   ],
   "source": [
    "print(\"Arda Can is eager to be\",end = \" \")\n",
    "print(\"data scientist.\")"
   ]
  },
  {
   "cell_type": "markdown",
   "id": "5eb09a38-ddb5-4a46-a92b-8840a7db9da0",
   "metadata": {},
   "source": []
  },
  {
   "cell_type": "code",
   "execution_count": null,
   "id": "d1db0775-73fa-4ebc-8ecf-1a7518a608f0",
   "metadata": {},
   "outputs": [],
   "source": []
  },
  {
   "cell_type": "code",
   "execution_count": null,
   "id": "e94a7832-8c7b-4c88-8cfb-5fd99d331978",
   "metadata": {},
   "outputs": [],
   "source": []
  },
  {
   "cell_type": "code",
   "execution_count": null,
   "id": "da5aabeb-78d3-4b60-a776-9474ae6e53bf",
   "metadata": {},
   "outputs": [],
   "source": []
  },
  {
   "cell_type": "markdown",
   "id": "964197dd-05c0-4098-92f1-a509d5d32ed7",
   "metadata": {},
   "source": []
  },
  {
   "cell_type": "code",
   "execution_count": null,
   "id": "6b50131e-2f60-475d-9bd0-c968be1259a4",
   "metadata": {},
   "outputs": [],
   "source": []
  },
  {
   "cell_type": "code",
   "execution_count": null,
   "id": "79a21aa0-2cb8-45f9-91f1-def02f01bdd2",
   "metadata": {},
   "outputs": [],
   "source": []
  },
  {
   "cell_type": "markdown",
   "id": "7aee6593-49a6-483d-8361-d36dbfdf12ce",
   "metadata": {},
   "source": []
  },
  {
   "cell_type": "code",
   "execution_count": null,
   "id": "f1bee768-9ad3-40a3-a6dd-9dd3000e7d76",
   "metadata": {},
   "outputs": [],
   "source": []
  },
  {
   "cell_type": "code",
   "execution_count": null,
   "id": "1ab9d86a-ff9a-4929-a993-72a0ae263382",
   "metadata": {},
   "outputs": [],
   "source": []
  },
  {
   "cell_type": "code",
   "execution_count": null,
   "id": "c0a51f22-093d-4ed3-b64e-faafda4d15be",
   "metadata": {},
   "outputs": [],
   "source": []
  },
  {
   "cell_type": "code",
   "execution_count": null,
   "id": "43c8591f-1d51-4f32-abb5-375ecbf84ba0",
   "metadata": {},
   "outputs": [],
   "source": []
  },
  {
   "cell_type": "code",
   "execution_count": null,
   "id": "c6218cd2-3a67-4c12-9f0f-357eea535620",
   "metadata": {},
   "outputs": [],
   "source": []
  }
 ],
 "metadata": {
  "kernelspec": {
   "display_name": "Python 3 (ipykernel)",
   "language": "python",
   "name": "python3"
  },
  "language_info": {
   "codemirror_mode": {
    "name": "ipython",
    "version": 3
   },
   "file_extension": ".py",
   "mimetype": "text/x-python",
   "name": "python",
   "nbconvert_exporter": "python",
   "pygments_lexer": "ipython3",
   "version": "3.11.7"
  }
 },
 "nbformat": 4,
 "nbformat_minor": 5
}
