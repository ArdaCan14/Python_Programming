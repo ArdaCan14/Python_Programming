{
 "cells": [
  {
   "cell_type": "code",
   "execution_count": 1,
   "id": "dee55469-945c-4255-bfb2-27cf46037232",
   "metadata": {},
   "outputs": [
    {
     "name": "stdout",
     "output_type": "stream",
     "text": [
      "[10, 20, 30, 40, 'arda', 'can']\n"
     ]
    }
   ],
   "source": [
    "liste = [10,20,30,40,\"arda\",\"can\"]\n",
    "print(liste)"
   ]
  },
  {
   "cell_type": "code",
   "execution_count": 2,
   "id": "0731a7e3-86af-48dd-a882-268fcdd1dd32",
   "metadata": {},
   "outputs": [
    {
     "data": {
      "text/plain": [
       "list"
      ]
     },
     "execution_count": 2,
     "metadata": {},
     "output_type": "execute_result"
    }
   ],
   "source": [
    "type(liste)"
   ]
  },
  {
   "cell_type": "code",
   "execution_count": 3,
   "id": "621ab738-f3fb-4e77-94e4-1853bd99ba1c",
   "metadata": {},
   "outputs": [
    {
     "name": "stdout",
     "output_type": "stream",
     "text": [
      "['a', 'b', 20.57, [10, 20, 30, 40, 'arda', 'can']]\n"
     ]
    }
   ],
   "source": [
    "liste2 = [\"a\",\"b\",20.57,liste]\n",
    "print(liste2)"
   ]
  },
  {
   "cell_type": "code",
   "execution_count": 4,
   "id": "9c722fd7-5ae9-44f0-a196-29dda9e80cc6",
   "metadata": {},
   "outputs": [
    {
     "data": {
      "text/plain": [
       "4"
      ]
     },
     "execution_count": 4,
     "metadata": {},
     "output_type": "execute_result"
    }
   ],
   "source": [
    "len(liste2)"
   ]
  },
  {
   "cell_type": "markdown",
   "id": "69d7119c-b014-48b8-ae1c-6f0d12ddbdaa",
   "metadata": {},
   "source": [
    "## Type query"
   ]
  },
  {
   "cell_type": "code",
   "execution_count": 5,
   "id": "c17d946e-bbf9-47bb-b44b-3570b0abb113",
   "metadata": {},
   "outputs": [
    {
     "data": {
      "text/plain": [
       "int"
      ]
     },
     "execution_count": 5,
     "metadata": {},
     "output_type": "execute_result"
    }
   ],
   "source": [
    "type(liste[2])"
   ]
  },
  {
   "cell_type": "code",
   "execution_count": 6,
   "id": "7176eb90-f6d0-4ad3-a137-25d38f5fde2a",
   "metadata": {},
   "outputs": [
    {
     "data": {
      "text/plain": [
       "str"
      ]
     },
     "execution_count": 6,
     "metadata": {},
     "output_type": "execute_result"
    }
   ],
   "source": [
    "type(liste[4])"
   ]
  },
  {
   "cell_type": "code",
   "execution_count": 7,
   "id": "da86b089-2f0a-42d5-a24f-851a93a0370a",
   "metadata": {},
   "outputs": [
    {
     "data": {
      "text/plain": [
       "str"
      ]
     },
     "execution_count": 7,
     "metadata": {},
     "output_type": "execute_result"
    }
   ],
   "source": [
    "type(liste[-1])"
   ]
  },
  {
   "cell_type": "code",
   "execution_count": 8,
   "id": "18a04cd7-c556-4d65-9cdc-202645678bfa",
   "metadata": {},
   "outputs": [
    {
     "data": {
      "text/plain": [
       "[[10, 20, 30, 40, 'arda', 'can'],\n",
       " ['a', 'b', 20.57, [10, 20, 30, 40, 'arda', 'can']]]"
      ]
     },
     "execution_count": 8,
     "metadata": {},
     "output_type": "execute_result"
    }
   ],
   "source": [
    "liste3 = [liste,liste2]\n",
    "liste3"
   ]
  },
  {
   "cell_type": "code",
   "execution_count": 9,
   "id": "a92e7a62-3525-4619-a196-6389884e5d23",
   "metadata": {},
   "outputs": [],
   "source": [
    "#del liste3"
   ]
  },
  {
   "cell_type": "code",
   "execution_count": 10,
   "id": "85fba654-58cb-4ea0-b969-87ea0fa342c3",
   "metadata": {},
   "outputs": [],
   "source": [
    "liste = [10,20,30,40,50]"
   ]
  },
  {
   "cell_type": "code",
   "execution_count": 11,
   "id": "24eba0aa-cd47-4559-ae2d-9522b7af0341",
   "metadata": {},
   "outputs": [
    {
     "name": "stdout",
     "output_type": "stream",
     "text": [
      "20\n"
     ]
    }
   ],
   "source": [
    "print(liste[1])"
   ]
  },
  {
   "cell_type": "code",
   "execution_count": 12,
   "id": "94ba77d3-7511-4850-b4f0-38a0869ca64c",
   "metadata": {},
   "outputs": [
    {
     "data": {
      "text/plain": [
       "50"
      ]
     },
     "execution_count": 12,
     "metadata": {},
     "output_type": "execute_result"
    }
   ],
   "source": [
    "liste[-1]"
   ]
  },
  {
   "cell_type": "code",
   "execution_count": 13,
   "id": "1bc67fa3-cd6a-4691-aae9-53a696276833",
   "metadata": {},
   "outputs": [
    {
     "name": "stdout",
     "output_type": "stream",
     "text": [
      "[10, 20, 30]\n"
     ]
    }
   ],
   "source": [
    "print(liste[0:3])"
   ]
  },
  {
   "cell_type": "code",
   "execution_count": 14,
   "id": "370e1486-18b1-4f8d-8aa6-0f3bb1a11d38",
   "metadata": {},
   "outputs": [
    {
     "name": "stdout",
     "output_type": "stream",
     "text": [
      "[10, 20, 30, 40]\n"
     ]
    }
   ],
   "source": [
    "print(liste[:4])"
   ]
  },
  {
   "cell_type": "code",
   "execution_count": 15,
   "id": "07669a74-84dc-4796-a76b-5c3d1c815001",
   "metadata": {},
   "outputs": [
    {
     "name": "stdout",
     "output_type": "stream",
     "text": [
      "[30, 40, 50]\n"
     ]
    }
   ],
   "source": [
    "print(liste[2:5])"
   ]
  },
  {
   "cell_type": "code",
   "execution_count": 16,
   "id": "f1ab82e9-076d-4221-99ac-7b75a9528c27",
   "metadata": {},
   "outputs": [
    {
     "name": "stdout",
     "output_type": "stream",
     "text": [
      "['g', 10, [1, 45, 78, 62]]\n"
     ]
    }
   ],
   "source": [
    "new_liste = [\"a\",\"g\",10,[1,45,78,62],6]\n",
    "print(new_liste[1:4])"
   ]
  },
  {
   "cell_type": "code",
   "execution_count": 17,
   "id": "d99b427d-7f9f-4508-ba7d-5bb437bdcb69",
   "metadata": {},
   "outputs": [
    {
     "name": "stdout",
     "output_type": "stream",
     "text": [
      "45\n"
     ]
    }
   ],
   "source": [
    "print(new_liste[3][1])"
   ]
  },
  {
   "cell_type": "markdown",
   "id": "3f248e20-f942-4e7d-a66c-5c53d18474ce",
   "metadata": {},
   "source": [
    "## Adding element and deleting element"
   ]
  },
  {
   "cell_type": "code",
   "execution_count": 18,
   "id": "309fcde3-bed6-4130-951e-fd5047c67866",
   "metadata": {},
   "outputs": [],
   "source": [
    "liste = [\"Arda\",\"Can\",\"Ali\",\"Veli\",\"Fatma\",\"Ayşe\"]"
   ]
  },
  {
   "cell_type": "code",
   "execution_count": 19,
   "id": "290f9a11-0588-49f5-8c4c-69488f87299d",
   "metadata": {},
   "outputs": [
    {
     "name": "stdout",
     "output_type": "stream",
     "text": [
      "Berke\n"
     ]
    }
   ],
   "source": [
    "liste[2] = \"Berke\"\n",
    "print(liste[2])"
   ]
  },
  {
   "cell_type": "code",
   "execution_count": 20,
   "id": "0a4e72ba-0fce-4142-a14a-fe4ffb5e15c3",
   "metadata": {},
   "outputs": [
    {
     "name": "stdout",
     "output_type": "stream",
     "text": [
      "['Arda', 'Can', 'Barış', 'Hasan', 'Melek', 'Gizem']\n"
     ]
    }
   ],
   "source": [
    "liste[2:6] = [\"Barış\",\"Hasan\",\"Melek\",\"Gizem\"]\n",
    "print(liste)"
   ]
  },
  {
   "cell_type": "code",
   "execution_count": 21,
   "id": "471b239c-b894-48a8-b7b5-91c6a34dc382",
   "metadata": {},
   "outputs": [
    {
     "name": "stdout",
     "output_type": "stream",
     "text": [
      "['Arda', 'Can', 'Barış', 'Hasan', 'Melek', 'Gizem', 'Kemal']\n"
     ]
    }
   ],
   "source": [
    "liste = liste + [\"Kemal\"]\n",
    "print(liste)"
   ]
  },
  {
   "cell_type": "code",
   "execution_count": 22,
   "id": "117d4195-92ae-4ec3-bc60-74fd5107f7d3",
   "metadata": {},
   "outputs": [
    {
     "name": "stdout",
     "output_type": "stream",
     "text": [
      "['Arda', 'Can', 'Barış', 'Melek', 'Gizem', 'Kemal']\n"
     ]
    }
   ],
   "source": [
    "del liste[3] \n",
    "print(liste)"
   ]
  },
  {
   "cell_type": "code",
   "execution_count": 23,
   "id": "258e2a59-7cbf-4e06-b9af-95ce697295fd",
   "metadata": {},
   "outputs": [
    {
     "data": {
      "text/plain": [
       "['__add__',\n",
       " '__class__',\n",
       " '__class_getitem__',\n",
       " '__contains__',\n",
       " '__delattr__',\n",
       " '__delitem__',\n",
       " '__dir__',\n",
       " '__doc__',\n",
       " '__eq__',\n",
       " '__format__',\n",
       " '__ge__',\n",
       " '__getattribute__',\n",
       " '__getitem__',\n",
       " '__getstate__',\n",
       " '__gt__',\n",
       " '__hash__',\n",
       " '__iadd__',\n",
       " '__imul__',\n",
       " '__init__',\n",
       " '__init_subclass__',\n",
       " '__iter__',\n",
       " '__le__',\n",
       " '__len__',\n",
       " '__lt__',\n",
       " '__mul__',\n",
       " '__ne__',\n",
       " '__new__',\n",
       " '__reduce__',\n",
       " '__reduce_ex__',\n",
       " '__repr__',\n",
       " '__reversed__',\n",
       " '__rmul__',\n",
       " '__setattr__',\n",
       " '__setitem__',\n",
       " '__sizeof__',\n",
       " '__str__',\n",
       " '__subclasshook__',\n",
       " 'append',\n",
       " 'clear',\n",
       " 'copy',\n",
       " 'count',\n",
       " 'extend',\n",
       " 'index',\n",
       " 'insert',\n",
       " 'pop',\n",
       " 'remove',\n",
       " 'reverse',\n",
       " 'sort']"
      ]
     },
     "execution_count": 23,
     "metadata": {},
     "output_type": "execute_result"
    }
   ],
   "source": [
    "dir(liste)"
   ]
  },
  {
   "cell_type": "code",
   "execution_count": 24,
   "id": "1e198b8e-6dfb-4d20-bee0-c34425861c94",
   "metadata": {},
   "outputs": [
    {
     "name": "stdout",
     "output_type": "stream",
     "text": [
      "1\n"
     ]
    }
   ],
   "source": [
    "print(liste.count(\"Arda\"))"
   ]
  },
  {
   "cell_type": "code",
   "execution_count": 25,
   "id": "e7e59bca-9300-4ee8-aa8a-0816179db0c6",
   "metadata": {},
   "outputs": [
    {
     "name": "stdout",
     "output_type": "stream",
     "text": [
      "['Arda', 'Can', 'Barış', 'Melek', 'Gizem', 'Kemal', 'Cemil']\n"
     ]
    }
   ],
   "source": [
    "liste.append(\"Cemil\")\n",
    "print(liste)"
   ]
  },
  {
   "cell_type": "code",
   "execution_count": 26,
   "id": "5c987b98-86c9-485e-9aad-e02afbaef178",
   "metadata": {},
   "outputs": [
    {
     "name": "stdout",
     "output_type": "stream",
     "text": [
      "['Arda', 'Can', 'Barış', 'Melek', 'Gizem', 'Kemal']\n"
     ]
    }
   ],
   "source": [
    "liste.remove(\"Cemil\")\n",
    "print(liste)"
   ]
  },
  {
   "cell_type": "code",
   "execution_count": 27,
   "id": "78ea1ed7-f8b9-48be-8f77-e0ccf8e3231b",
   "metadata": {},
   "outputs": [
    {
     "name": "stdout",
     "output_type": "stream",
     "text": [
      "['Arda', 'Barış', 'Can', 'Gizem', 'Kemal', 'Melek']\n"
     ]
    }
   ],
   "source": [
    "liste.sort()\n",
    "print(liste)"
   ]
  },
  {
   "cell_type": "code",
   "execution_count": 28,
   "id": "ed7cb6b5-e672-48b9-9b40-54cd21b337af",
   "metadata": {},
   "outputs": [
    {
     "name": "stdout",
     "output_type": "stream",
     "text": [
      "['Arda', 'Ayşe', 'Barış', 'Can', 'Gizem', 'Kemal', 'Melek']\n"
     ]
    }
   ],
   "source": [
    "liste.insert(1,\"Ayşe\")\n",
    "print(liste)"
   ]
  },
  {
   "cell_type": "code",
   "execution_count": 29,
   "id": "ac534c49-b731-49ee-8164-5b39de86e344",
   "metadata": {},
   "outputs": [
    {
     "name": "stdout",
     "output_type": "stream",
     "text": [
      "['Arda', 'Ayşe', 'Barış', 'Can', 'Gizem', 'Kemal', 'Melek', 'Tarık']\n"
     ]
    }
   ],
   "source": [
    "liste.insert(len(liste),\"Tarık\")\n",
    "print(liste)"
   ]
  },
  {
   "cell_type": "code",
   "execution_count": 30,
   "id": "ac734772-d6e0-4690-82ad-d3090007971f",
   "metadata": {},
   "outputs": [
    {
     "data": {
      "text/plain": [
       "'Tarık'"
      ]
     },
     "execution_count": 30,
     "metadata": {},
     "output_type": "execute_result"
    }
   ],
   "source": [
    "liste.pop(7)"
   ]
  },
  {
   "cell_type": "code",
   "execution_count": 31,
   "id": "a458813d-0a82-4c2d-b0e5-816756c2f612",
   "metadata": {},
   "outputs": [
    {
     "name": "stdout",
     "output_type": "stream",
     "text": [
      "['Arda', 'Ayşe', 'Barış', 'Can', 'Gizem', 'Kemal', 'Melek']\n"
     ]
    }
   ],
   "source": [
    "print(liste)"
   ]
  },
  {
   "cell_type": "code",
   "execution_count": 32,
   "id": "bc9f5212-ece5-4ec6-a3da-0c2f452ed419",
   "metadata": {},
   "outputs": [
    {
     "name": "stdout",
     "output_type": "stream",
     "text": [
      "1\n"
     ]
    }
   ],
   "source": [
    "print(liste.count(\"Ayşe\"))"
   ]
  },
  {
   "cell_type": "code",
   "execution_count": 33,
   "id": "5c777681-0039-418a-84bc-3aca475dd8d9",
   "metadata": {},
   "outputs": [
    {
     "name": "stdout",
     "output_type": "stream",
     "text": [
      "['Arda', 'Ayşe', 'Barış', 'Can', 'Gizem', 'Kemal', 'Melek']\n"
     ]
    }
   ],
   "source": [
    "liste2 = liste.copy()\n",
    "print(liste2)"
   ]
  },
  {
   "cell_type": "code",
   "execution_count": 34,
   "id": "b38ee075-2c0a-4950-907f-26b468601c8a",
   "metadata": {},
   "outputs": [],
   "source": [
    "liste.extend(liste2)"
   ]
  },
  {
   "cell_type": "code",
   "execution_count": 35,
   "id": "6d42ee4e-b459-4fac-9e9e-f99a23bf266e",
   "metadata": {},
   "outputs": [
    {
     "name": "stdout",
     "output_type": "stream",
     "text": [
      "['Arda', 'Ayşe', 'Barış', 'Can', 'Gizem', 'Kemal', 'Melek', 'Arda', 'Ayşe', 'Barış', 'Can', 'Gizem', 'Kemal', 'Melek']\n"
     ]
    }
   ],
   "source": [
    "print(liste)"
   ]
  },
  {
   "cell_type": "code",
   "execution_count": 36,
   "id": "a0c86e6a-f2e7-49c3-aeea-f769349593cb",
   "metadata": {},
   "outputs": [],
   "source": [
    "liste.extend([\"Cem\",\"Cengiz\"])"
   ]
  },
  {
   "cell_type": "code",
   "execution_count": 37,
   "id": "6b335152-2f14-46d9-9e66-7617565072d8",
   "metadata": {},
   "outputs": [
    {
     "name": "stdout",
     "output_type": "stream",
     "text": [
      "['Arda', 'Ayşe', 'Barış', 'Can', 'Gizem', 'Kemal', 'Melek', 'Arda', 'Ayşe', 'Barış', 'Can', 'Gizem', 'Kemal', 'Melek', 'Cem', 'Cengiz']\n"
     ]
    }
   ],
   "source": [
    "print(liste)"
   ]
  },
  {
   "cell_type": "code",
   "execution_count": 38,
   "id": "4730b235-842c-4c21-b93d-fa3bec79d822",
   "metadata": {},
   "outputs": [
    {
     "name": "stdout",
     "output_type": "stream",
     "text": [
      "0\n"
     ]
    }
   ],
   "source": [
    "print(liste.index(\"Arda\"))"
   ]
  },
  {
   "cell_type": "code",
   "execution_count": 39,
   "id": "2f3b9cf0-e72a-48fb-b5bb-7541b20634aa",
   "metadata": {},
   "outputs": [],
   "source": [
    "liste.reverse()"
   ]
  },
  {
   "cell_type": "code",
   "execution_count": 40,
   "id": "200d035a-0bca-4bf0-af4e-f3c4a08bb864",
   "metadata": {},
   "outputs": [
    {
     "name": "stdout",
     "output_type": "stream",
     "text": [
      "['Cengiz', 'Cem', 'Melek', 'Kemal', 'Gizem', 'Can', 'Barış', 'Ayşe', 'Arda', 'Melek', 'Kemal', 'Gizem', 'Can', 'Barış', 'Ayşe', 'Arda']\n"
     ]
    }
   ],
   "source": [
    "print(liste)"
   ]
  },
  {
   "cell_type": "code",
   "execution_count": 41,
   "id": "e989ddea-f939-438e-ac56-42a62c833c74",
   "metadata": {},
   "outputs": [],
   "source": [
    "liste.sort()"
   ]
  },
  {
   "cell_type": "code",
   "execution_count": 42,
   "id": "7e1b696a-e957-4f71-9f1e-4618c6573b8a",
   "metadata": {},
   "outputs": [
    {
     "name": "stdout",
     "output_type": "stream",
     "text": [
      "['Arda', 'Arda', 'Ayşe', 'Ayşe', 'Barış', 'Barış', 'Can', 'Can', 'Cem', 'Cengiz', 'Gizem', 'Gizem', 'Kemal', 'Kemal', 'Melek', 'Melek']\n"
     ]
    }
   ],
   "source": [
    "print(liste)"
   ]
  },
  {
   "cell_type": "code",
   "execution_count": 43,
   "id": "f7ec1dec-3972-477c-869d-4f502939e3b9",
   "metadata": {},
   "outputs": [
    {
     "data": {
      "text/plain": [
       "['Arda', 'Ayşe', 'Barış', 'Can', 'Gizem', 'Kemal', 'Melek']"
      ]
     },
     "execution_count": 43,
     "metadata": {},
     "output_type": "execute_result"
    }
   ],
   "source": [
    "liste2"
   ]
  },
  {
   "cell_type": "code",
   "execution_count": 44,
   "id": "03932693-2d43-41f6-af8d-20d18f108581",
   "metadata": {},
   "outputs": [],
   "source": [
    "liste2.clear()"
   ]
  },
  {
   "cell_type": "code",
   "execution_count": 45,
   "id": "0bbea39d-5de8-476a-a743-434c93329eda",
   "metadata": {},
   "outputs": [
    {
     "name": "stdout",
     "output_type": "stream",
     "text": [
      "[]\n"
     ]
    }
   ],
   "source": [
    "print(liste2)"
   ]
  },
  {
   "cell_type": "markdown",
   "id": "4392714e-c304-4650-b101-27c76519b905",
   "metadata": {},
   "source": [
    "## Tuple"
   ]
  },
  {
   "cell_type": "code",
   "execution_count": 46,
   "id": "9344fcef-506f-49c4-9cdb-fc161cb7f0da",
   "metadata": {},
   "outputs": [
    {
     "name": "stdout",
     "output_type": "stream",
     "text": [
      "('Arda', 'Can', 'Ali', 'Cengiz', 1, 2, 3, ['Cengiz', 'Burak'])\n"
     ]
    }
   ],
   "source": [
    "t = (\"Arda\",\"Can\",\"Ali\",\"Cengiz\",1,2,3,[\"Cengiz\",\"Burak\"])\n",
    "print(t)"
   ]
  },
  {
   "cell_type": "code",
   "execution_count": 47,
   "id": "0212a80c-51b7-4524-92da-378b4f141e32",
   "metadata": {},
   "outputs": [],
   "source": [
    "t2 = \"Arda\",\"Can\",\"Ali\",\"Cengiz\""
   ]
  },
  {
   "cell_type": "code",
   "execution_count": 48,
   "id": "77b19a21-c661-48c8-84b5-b9767ffac91e",
   "metadata": {},
   "outputs": [
    {
     "name": "stdout",
     "output_type": "stream",
     "text": [
      "('Arda', 'Can', 'Ali', 'Cengiz')\n"
     ]
    }
   ],
   "source": [
    "print(t2)"
   ]
  },
  {
   "cell_type": "code",
   "execution_count": 49,
   "id": "5629f5a4-80ab-4049-a0d7-c2ddf276a7c0",
   "metadata": {},
   "outputs": [
    {
     "name": "stdout",
     "output_type": "stream",
     "text": [
      "Can\n"
     ]
    }
   ],
   "source": [
    "print(t[1])"
   ]
  },
  {
   "cell_type": "markdown",
   "id": "ca90dccf-6e6b-483c-b3ee-2be9dc1c8bd8",
   "metadata": {},
   "source": [
    "## Dictionary"
   ]
  },
  {
   "cell_type": "code",
   "execution_count": 50,
   "id": "afccb587-25ba-4416-8b30-ed5d60d94968",
   "metadata": {},
   "outputs": [
    {
     "name": "stdout",
     "output_type": "stream",
     "text": [
      "{'Arda': 10, 'Ali': 14, 'Cenk': 15, 'Demir': 'Fe', 'Altın': 'Au', 'Karbon': 'C'}\n"
     ]
    }
   ],
   "source": [
    "sozluk = {\"Arda\":10,\"Ali\":14,\"Cenk\":15,\"Demir\":\"Fe\",\"Altın\":\"Au\",\"Karbon\":\"C\"}\n",
    "print(sozluk)"
   ]
  },
  {
   "cell_type": "code",
   "execution_count": 51,
   "id": "e429ad20-4020-450d-a5c9-b5246ce51a1f",
   "metadata": {},
   "outputs": [
    {
     "data": {
      "text/plain": [
       "6"
      ]
     },
     "execution_count": 51,
     "metadata": {},
     "output_type": "execute_result"
    }
   ],
   "source": [
    "len(sozluk)"
   ]
  },
  {
   "cell_type": "code",
   "execution_count": 52,
   "id": "7590333b-f110-4cb9-8487-06710f0a674c",
   "metadata": {},
   "outputs": [
    {
     "name": "stdout",
     "output_type": "stream",
     "text": [
      "{'Arda': [10, 14, 24], 'Berke': [45, 61, 32], 'Barış': [90, 78]}\n"
     ]
    }
   ],
   "source": [
    "sozluk2 = {\"Arda\":[10,14,24],\"Berke\":[45,61,32],\"Barış\":[90,78]}\n",
    "print(sozluk2)"
   ]
  },
  {
   "cell_type": "code",
   "execution_count": 53,
   "id": "0de6a800-120f-494c-86ea-4144febdaf85",
   "metadata": {},
   "outputs": [
    {
     "name": "stdout",
     "output_type": "stream",
     "text": [
      "[10, 14, 24]\n"
     ]
    }
   ],
   "source": [
    "print(sozluk2[\"Arda\"])"
   ]
  },
  {
   "cell_type": "code",
   "execution_count": 54,
   "id": "1c103fd8-bd59-40b2-92c1-6a3886baf2a9",
   "metadata": {},
   "outputs": [
    {
     "name": "stdout",
     "output_type": "stream",
     "text": [
      "14\n"
     ]
    }
   ],
   "source": [
    "print(sozluk2[\"Arda\"][1])"
   ]
  },
  {
   "cell_type": "markdown",
   "id": "f1d11b32-7635-4d32-97b0-21074e8de50b",
   "metadata": {},
   "source": [
    "## Adding element and changing"
   ]
  },
  {
   "cell_type": "code",
   "execution_count": 55,
   "id": "de12fce3-222a-47df-be24-b86f3a51d00a",
   "metadata": {},
   "outputs": [
    {
     "data": {
      "text/plain": [
       "{'Arda': 10,\n",
       " 'Ali': 14,\n",
       " 'Cenk': 15,\n",
       " 'Demir': 'Fe',\n",
       " 'Altın': 'Au',\n",
       " 'Karbon': 'C'}"
      ]
     },
     "execution_count": 55,
     "metadata": {},
     "output_type": "execute_result"
    }
   ],
   "source": [
    "sozluk"
   ]
  },
  {
   "cell_type": "code",
   "execution_count": 56,
   "id": "16115602-1c27-437c-9a70-b4e59a59a7bb",
   "metadata": {},
   "outputs": [],
   "source": [
    "sozluk[\"Silver\"] = \"Ag\""
   ]
  },
  {
   "cell_type": "code",
   "execution_count": 57,
   "id": "5df08b71-88ef-41ff-8a0e-1f4681e3faf6",
   "metadata": {},
   "outputs": [
    {
     "data": {
      "text/plain": [
       "{'Arda': 10,\n",
       " 'Ali': 14,\n",
       " 'Cenk': 15,\n",
       " 'Demir': 'Fe',\n",
       " 'Altın': 'Au',\n",
       " 'Karbon': 'C',\n",
       " 'Silver': 'Ag'}"
      ]
     },
     "execution_count": 57,
     "metadata": {},
     "output_type": "execute_result"
    }
   ],
   "source": [
    "sozluk"
   ]
  },
  {
   "cell_type": "code",
   "execution_count": 58,
   "id": "8ea126b5-64d8-46fd-a84d-7dfc77ec0cb6",
   "metadata": {},
   "outputs": [],
   "source": [
    "sozluk[\"Cenk\"] = 28"
   ]
  },
  {
   "cell_type": "code",
   "execution_count": 59,
   "id": "16aa2400-ffa8-4130-9680-b33734248c9b",
   "metadata": {},
   "outputs": [
    {
     "name": "stdout",
     "output_type": "stream",
     "text": [
      "28\n"
     ]
    }
   ],
   "source": [
    "print(sozluk[\"Cenk\"])"
   ]
  },
  {
   "cell_type": "code",
   "execution_count": 60,
   "id": "28074404-ac8c-4443-b37b-30b32a3e949f",
   "metadata": {},
   "outputs": [],
   "source": [
    "sozluk[10] = \"Arda\""
   ]
  },
  {
   "cell_type": "code",
   "execution_count": 61,
   "id": "ee8935dc-fc65-4a73-b2d6-f78accb7e84c",
   "metadata": {},
   "outputs": [
    {
     "name": "stdout",
     "output_type": "stream",
     "text": [
      "{'Arda': 10, 'Ali': 14, 'Cenk': 28, 'Demir': 'Fe', 'Altın': 'Au', 'Karbon': 'C', 'Silver': 'Ag', 10: 'Arda'}\n"
     ]
    }
   ],
   "source": [
    "print(sozluk)"
   ]
  },
  {
   "cell_type": "markdown",
   "id": "d02b468a-ab67-495e-a152-1a8ecd5ac42e",
   "metadata": {},
   "source": [
    "## Set"
   ]
  },
  {
   "cell_type": "code",
   "execution_count": 62,
   "id": "6008f38a-8a8d-4dc2-8425-a926d700155c",
   "metadata": {},
   "outputs": [],
   "source": [
    "s = set()"
   ]
  },
  {
   "cell_type": "code",
   "execution_count": 63,
   "id": "8575215f-6afe-4053-8ca6-b85787661f55",
   "metadata": {},
   "outputs": [],
   "source": [
    "liste = [\"Arda\",10,20]"
   ]
  },
  {
   "cell_type": "code",
   "execution_count": 64,
   "id": "c43237bb-82cb-45cb-be0a-493be420b912",
   "metadata": {},
   "outputs": [
    {
     "name": "stdout",
     "output_type": "stream",
     "text": [
      "{10, 20, 'Arda'}\n"
     ]
    }
   ],
   "source": [
    "s = set(liste)\n",
    "print(s)"
   ]
  },
  {
   "cell_type": "code",
   "execution_count": 67,
   "id": "de81cce2-946b-4d2f-923d-7ab2da64c693",
   "metadata": {},
   "outputs": [],
   "source": [
    "st = \"today is beautiful and tomorrow is gonna be more.\""
   ]
  },
  {
   "cell_type": "code",
   "execution_count": 68,
   "id": "89b59086-880d-47ec-a29f-e56cab520661",
   "metadata": {},
   "outputs": [
    {
     "name": "stdout",
     "output_type": "stream",
     "text": [
      "{'g', '.', ' ', 'y', 'm', 'a', 'i', 'f', 'l', 'n', 's', 'r', 'u', 'o', 'b', 'w', 'e', 'd', 't'}\n"
     ]
    }
   ],
   "source": [
    "s = set(st)\n",
    "print(s)"
   ]
  },
  {
   "cell_type": "code",
   "execution_count": 69,
   "id": "650fcca2-8c66-437c-b29e-a2ef1fb0b59f",
   "metadata": {},
   "outputs": [
    {
     "name": "stdout",
     "output_type": "stream",
     "text": [
      "['Arda', 'Can', 'Can', 'Data science', 'game', 'game']\n"
     ]
    }
   ],
   "source": [
    "liste2 = [\"Arda\",\"Can\",\"Can\",\"Data science\",\"game\",\"game\"]\n",
    "print(liste2)"
   ]
  },
  {
   "cell_type": "code",
   "execution_count": 70,
   "id": "a50094da-7073-471b-878f-178ba2c25b86",
   "metadata": {},
   "outputs": [
    {
     "name": "stdout",
     "output_type": "stream",
     "text": [
      "{'Can', 'game', 'Data science', 'Arda'}\n"
     ]
    }
   ],
   "source": [
    "s2 = set(liste2)\n",
    "print(s2)"
   ]
  },
  {
   "cell_type": "code",
   "execution_count": 71,
   "id": "4b30e810-5ddd-452f-8fa7-99609f9a51e2",
   "metadata": {},
   "outputs": [
    {
     "name": "stdout",
     "output_type": "stream",
     "text": [
      "4\n"
     ]
    }
   ],
   "source": [
    "print(len(s2))"
   ]
  },
  {
   "cell_type": "code",
   "execution_count": 73,
   "id": "3a260c02-6754-4e3d-bea0-adbcfba2d409",
   "metadata": {},
   "outputs": [
    {
     "data": {
      "text/plain": [
       "6"
      ]
     },
     "execution_count": 73,
     "metadata": {},
     "output_type": "execute_result"
    }
   ],
   "source": [
    "len(liste2)"
   ]
  },
  {
   "cell_type": "markdown",
   "id": "bdc64fac-f528-4650-aee4-d79e32c4a8f6",
   "metadata": {},
   "source": [
    "## Adding and removing element"
   ]
  },
  {
   "cell_type": "code",
   "execution_count": 74,
   "id": "583f17b9-c7eb-447b-b9c4-9d298b59df0c",
   "metadata": {},
   "outputs": [],
   "source": [
    "lis = [\"Arda\",\"Can\",10]"
   ]
  },
  {
   "cell_type": "code",
   "execution_count": 75,
   "id": "9fe232e6-21ea-49e5-b3aa-9f095d4ef502",
   "metadata": {},
   "outputs": [],
   "source": [
    "s = set(lis)"
   ]
  },
  {
   "cell_type": "code",
   "execution_count": 76,
   "id": "de1c4590-e38d-467d-a0f2-d1eca8afb0bd",
   "metadata": {},
   "outputs": [
    {
     "data": {
      "text/plain": [
       "['__and__',\n",
       " '__class__',\n",
       " '__class_getitem__',\n",
       " '__contains__',\n",
       " '__delattr__',\n",
       " '__dir__',\n",
       " '__doc__',\n",
       " '__eq__',\n",
       " '__format__',\n",
       " '__ge__',\n",
       " '__getattribute__',\n",
       " '__getstate__',\n",
       " '__gt__',\n",
       " '__hash__',\n",
       " '__iand__',\n",
       " '__init__',\n",
       " '__init_subclass__',\n",
       " '__ior__',\n",
       " '__isub__',\n",
       " '__iter__',\n",
       " '__ixor__',\n",
       " '__le__',\n",
       " '__len__',\n",
       " '__lt__',\n",
       " '__ne__',\n",
       " '__new__',\n",
       " '__or__',\n",
       " '__rand__',\n",
       " '__reduce__',\n",
       " '__reduce_ex__',\n",
       " '__repr__',\n",
       " '__ror__',\n",
       " '__rsub__',\n",
       " '__rxor__',\n",
       " '__setattr__',\n",
       " '__sizeof__',\n",
       " '__str__',\n",
       " '__sub__',\n",
       " '__subclasshook__',\n",
       " '__xor__',\n",
       " 'add',\n",
       " 'clear',\n",
       " 'copy',\n",
       " 'difference',\n",
       " 'difference_update',\n",
       " 'discard',\n",
       " 'intersection',\n",
       " 'intersection_update',\n",
       " 'isdisjoint',\n",
       " 'issubset',\n",
       " 'issuperset',\n",
       " 'pop',\n",
       " 'remove',\n",
       " 'symmetric_difference',\n",
       " 'symmetric_difference_update',\n",
       " 'union',\n",
       " 'update']"
      ]
     },
     "execution_count": 76,
     "metadata": {},
     "output_type": "execute_result"
    }
   ],
   "source": [
    "dir(s)"
   ]
  },
  {
   "cell_type": "code",
   "execution_count": 77,
   "id": "784b275a-fbd2-47c7-b885-ea2aa1c00ecd",
   "metadata": {},
   "outputs": [
    {
     "name": "stdout",
     "output_type": "stream",
     "text": [
      "{'Can', 'Data Science', 10, 'Arda'}\n"
     ]
    }
   ],
   "source": [
    "s.add(\"Data Science\")\n",
    "print(s)"
   ]
  },
  {
   "cell_type": "code",
   "execution_count": 78,
   "id": "c3be8ef6-7338-4f70-bbff-7bd69ff2e008",
   "metadata": {},
   "outputs": [
    {
     "name": "stdout",
     "output_type": "stream",
     "text": [
      "{10, 14, 'Arda', 'Data Science', 'Can'}\n"
     ]
    }
   ],
   "source": [
    "s.add(14)\n",
    "print(s)"
   ]
  },
  {
   "cell_type": "code",
   "execution_count": 79,
   "id": "90bed509-048f-41b8-bdf7-ed8ecfba3497",
   "metadata": {},
   "outputs": [
    {
     "name": "stdout",
     "output_type": "stream",
     "text": [
      "{10, 14, 'Arda', 'Data Science', 'Can'}\n"
     ]
    }
   ],
   "source": [
    "s.add(\"Arda\")\n",
    "print(s)"
   ]
  },
  {
   "cell_type": "code",
   "execution_count": 80,
   "id": "33ca0825-376f-4290-a2d3-89520be3cef7",
   "metadata": {},
   "outputs": [
    {
     "name": "stdout",
     "output_type": "stream",
     "text": [
      "{10, 14, 'Arda', 'Data Science'}\n"
     ]
    }
   ],
   "source": [
    "s.remove(\"Can\")\n",
    "print(s)"
   ]
  },
  {
   "cell_type": "code",
   "execution_count": 81,
   "id": "aefcba1c-5647-4e55-af30-9511853542ce",
   "metadata": {},
   "outputs": [],
   "source": [
    "s.discard(\"Can\")"
   ]
  },
  {
   "cell_type": "markdown",
   "id": "6676ef1a-5172-4cb1-8ff6-f1c308047cd4",
   "metadata": {},
   "source": [
    "## set functions"
   ]
  },
  {
   "cell_type": "code",
   "execution_count": 82,
   "id": "39f148cb-f3d9-4916-aee1-ef2615eff381",
   "metadata": {},
   "outputs": [],
   "source": [
    "set1 = set([1,2,3,4,5])\n",
    "set2 = set([1,10,6,5,3])"
   ]
  },
  {
   "cell_type": "code",
   "execution_count": 83,
   "id": "970fcfd0-af0f-49b1-90cf-a55b0a2f7516",
   "metadata": {},
   "outputs": [
    {
     "data": {
      "text/plain": [
       "{2, 4}"
      ]
     },
     "execution_count": 83,
     "metadata": {},
     "output_type": "execute_result"
    }
   ],
   "source": [
    "set1.difference(set2)"
   ]
  },
  {
   "cell_type": "code",
   "execution_count": 84,
   "id": "6e908c6a-7a8b-48e8-b9e5-9101bbbd611f",
   "metadata": {},
   "outputs": [
    {
     "data": {
      "text/plain": [
       "{6, 10}"
      ]
     },
     "execution_count": 84,
     "metadata": {},
     "output_type": "execute_result"
    }
   ],
   "source": [
    "set2.difference(set1)"
   ]
  },
  {
   "cell_type": "code",
   "execution_count": 85,
   "id": "3988e98f-3ea5-4127-a8c0-edf5369b9d05",
   "metadata": {},
   "outputs": [
    {
     "data": {
      "text/plain": [
       "{1, 2, 3, 4, 5, 6, 10}"
      ]
     },
     "execution_count": 85,
     "metadata": {},
     "output_type": "execute_result"
    }
   ],
   "source": [
    "set1.union(set2)"
   ]
  },
  {
   "cell_type": "code",
   "execution_count": 86,
   "id": "d994e741-d395-469b-8792-ba85e881b01b",
   "metadata": {},
   "outputs": [
    {
     "data": {
      "text/plain": [
       "{2, 4, 6, 10}"
      ]
     },
     "execution_count": 86,
     "metadata": {},
     "output_type": "execute_result"
    }
   ],
   "source": [
    "set1.symmetric_difference(set2)"
   ]
  },
  {
   "cell_type": "code",
   "execution_count": 87,
   "id": "f0797703-54d9-4b1c-8fb8-0363c1670769",
   "metadata": {},
   "outputs": [
    {
     "data": {
      "text/plain": [
       "{2, 4}"
      ]
     },
     "execution_count": 87,
     "metadata": {},
     "output_type": "execute_result"
    }
   ],
   "source": [
    "set1 - set2"
   ]
  },
  {
   "cell_type": "code",
   "execution_count": 88,
   "id": "f028ca2a-030c-4038-9894-2c07540eb135",
   "metadata": {},
   "outputs": [
    {
     "data": {
      "text/plain": [
       "{1, 3, 5}"
      ]
     },
     "execution_count": 88,
     "metadata": {},
     "output_type": "execute_result"
    }
   ],
   "source": [
    "set1.intersection(set2)"
   ]
  },
  {
   "cell_type": "code",
   "execution_count": 89,
   "id": "1f572b57-8e3f-49ff-9dd2-ab7fe795cfa0",
   "metadata": {},
   "outputs": [
    {
     "data": {
      "text/plain": [
       "{1, 3, 5}"
      ]
     },
     "execution_count": 89,
     "metadata": {},
     "output_type": "execute_result"
    }
   ],
   "source": [
    "set2.intersection(set1)"
   ]
  },
  {
   "cell_type": "code",
   "execution_count": 90,
   "id": "c8129dde-219a-4cfd-ba03-33618d7a7824",
   "metadata": {},
   "outputs": [
    {
     "data": {
      "text/plain": [
       "{1, 3, 5}"
      ]
     },
     "execution_count": 90,
     "metadata": {},
     "output_type": "execute_result"
    }
   ],
   "source": [
    "set1 & set2"
   ]
  },
  {
   "cell_type": "code",
   "execution_count": 91,
   "id": "170f54c2-c762-47c7-bcd4-db32afe31e05",
   "metadata": {},
   "outputs": [
    {
     "data": {
      "text/plain": [
       "{1, 3, 5}"
      ]
     },
     "execution_count": 91,
     "metadata": {},
     "output_type": "execute_result"
    }
   ],
   "source": [
    "set1.intersection_update(set2)\n",
    "set1"
   ]
  },
  {
   "cell_type": "code",
   "execution_count": 92,
   "id": "2ca988a6-7e0b-419b-9bcc-aacc6d943b65",
   "metadata": {},
   "outputs": [],
   "source": [
    "set1 = set([7,8,9,10])\n",
    "set2 = set([5,6,7,8,9,10])"
   ]
  },
  {
   "cell_type": "code",
   "execution_count": 95,
   "id": "e4f61cee-5d95-4338-86f7-f37f6b12c6d0",
   "metadata": {},
   "outputs": [
    {
     "data": {
      "text/plain": [
       "False"
      ]
     },
     "execution_count": 95,
     "metadata": {},
     "output_type": "execute_result"
    }
   ],
   "source": [
    "set1.isdisjoint(set2)"
   ]
  },
  {
   "cell_type": "code",
   "execution_count": 96,
   "id": "4ba6cfa8-eb82-4bf6-94d6-4c7908b526da",
   "metadata": {},
   "outputs": [
    {
     "data": {
      "text/plain": [
       "True"
      ]
     },
     "execution_count": 96,
     "metadata": {},
     "output_type": "execute_result"
    }
   ],
   "source": [
    "set1.issubset(set2)"
   ]
  },
  {
   "cell_type": "code",
   "execution_count": 97,
   "id": "ed8692a7-72ff-4845-abd4-d4a7d7025972",
   "metadata": {},
   "outputs": [
    {
     "data": {
      "text/plain": [
       "True"
      ]
     },
     "execution_count": 97,
     "metadata": {},
     "output_type": "execute_result"
    }
   ],
   "source": [
    "set2.issuperset(set1)"
   ]
  },
  {
   "cell_type": "code",
   "execution_count": null,
   "id": "e27a2561-2bbe-4de2-8e94-208a87fbc267",
   "metadata": {},
   "outputs": [],
   "source": []
  }
 ],
 "metadata": {
  "kernelspec": {
   "display_name": "Python 3 (ipykernel)",
   "language": "python",
   "name": "python3"
  },
  "language_info": {
   "codemirror_mode": {
    "name": "ipython",
    "version": 3
   },
   "file_extension": ".py",
   "mimetype": "text/x-python",
   "name": "python",
   "nbconvert_exporter": "python",
   "pygments_lexer": "ipython3",
   "version": "3.11.7"
  }
 },
 "nbformat": 4,
 "nbformat_minor": 5
}
