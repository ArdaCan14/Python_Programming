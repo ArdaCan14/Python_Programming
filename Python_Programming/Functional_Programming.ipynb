{
 "cells": [
  {
   "cell_type": "markdown",
   "id": "1cac7f5f-bffe-4ce8-8f75-905b2bc3978c",
   "metadata": {},
   "source": [
    "## Pure Functions"
   ]
  },
  {
   "cell_type": "code",
   "execution_count": 1,
   "id": "cb0a87a2-7103-4a67-a444-77ffeabef5f3",
   "metadata": {},
   "outputs": [],
   "source": [
    "A = 9"
   ]
  },
  {
   "cell_type": "code",
   "execution_count": 2,
   "id": "12f1cfa7-2bf1-4c76-8ed1-51edf8d5bd5f",
   "metadata": {},
   "outputs": [],
   "source": [
    "def impure_sum(b):\n",
    "    return A+b"
   ]
  },
  {
   "cell_type": "code",
   "execution_count": 3,
   "id": "bd779410-2915-41b7-ad8d-cb624bee19d7",
   "metadata": {},
   "outputs": [],
   "source": [
    "def pure_sum(a,b):\n",
    "    return a+b"
   ]
  },
  {
   "cell_type": "code",
   "execution_count": 4,
   "id": "6f944bd7-d6b2-4420-bc84-654669ca632f",
   "metadata": {},
   "outputs": [
    {
     "data": {
      "text/plain": [
       "14"
      ]
     },
     "execution_count": 4,
     "metadata": {},
     "output_type": "execute_result"
    }
   ],
   "source": [
    "impure_sum(5)"
   ]
  },
  {
   "cell_type": "code",
   "execution_count": 5,
   "id": "eb8dc9e1-e938-4e86-a202-4172769bfc8c",
   "metadata": {},
   "outputs": [
    {
     "data": {
      "text/plain": [
       "7"
      ]
     },
     "execution_count": 5,
     "metadata": {},
     "output_type": "execute_result"
    }
   ],
   "source": [
    "pure_sum(3,4)"
   ]
  },
  {
   "cell_type": "code",
   "execution_count": 6,
   "id": "7315ce7e-6526-490f-a861-1a7f77e2579e",
   "metadata": {},
   "outputs": [
    {
     "data": {
      "text/plain": [
       "23"
      ]
     },
     "execution_count": 6,
     "metadata": {},
     "output_type": "execute_result"
    }
   ],
   "source": [
    "A = 15\n",
    "impure_sum(8)"
   ]
  },
  {
   "cell_type": "markdown",
   "id": "36d081ef-9f91-473a-823e-63621adffea3",
   "metadata": {},
   "source": [
    "## Anonymous Functions"
   ]
  },
  {
   "cell_type": "code",
   "execution_count": 1,
   "id": "a35ddde5-fc3c-4cbd-88d8-11b646e0454c",
   "metadata": {},
   "outputs": [],
   "source": [
    "new_sum = lambda a,b : a+b"
   ]
  },
  {
   "cell_type": "code",
   "execution_count": 2,
   "id": "6e275d62-ce81-4c3e-9ccc-24f8d805bf5c",
   "metadata": {},
   "outputs": [
    {
     "data": {
      "text/plain": [
       "10"
      ]
     },
     "execution_count": 2,
     "metadata": {},
     "output_type": "execute_result"
    }
   ],
   "source": [
    "new_sum(4,6)"
   ]
  },
  {
   "cell_type": "code",
   "execution_count": 3,
   "id": "1d819d06-ed0d-4b70-a3f6-f033f550c5e5",
   "metadata": {},
   "outputs": [],
   "source": [
    "unordered_list = [('b',3),('a',8),('d',12),('c',1)]"
   ]
  },
  {
   "cell_type": "code",
   "execution_count": 5,
   "id": "284de7fc-1b2e-4a02-a272-b4dda3b03bf6",
   "metadata": {},
   "outputs": [
    {
     "data": {
      "text/plain": [
       "[('c', 1), ('b', 3), ('a', 8), ('d', 12)]"
      ]
     },
     "execution_count": 5,
     "metadata": {},
     "output_type": "execute_result"
    }
   ],
   "source": [
    "sorted(unordered_list ,key = lambda x :x[1])"
   ]
  },
  {
   "cell_type": "markdown",
   "id": "387fc839-f22c-4375-9585-35cf10467860",
   "metadata": {},
   "source": [
    "## Vectoral Operations "
   ]
  },
  {
   "cell_type": "code",
   "execution_count": 1,
   "id": "03872372-cb4c-43da-bad3-0e8fb665f476",
   "metadata": {},
   "outputs": [],
   "source": [
    "a = [1,2,3,4]\n",
    "b = [5,6,7,8]"
   ]
  },
  {
   "cell_type": "code",
   "execution_count": 3,
   "id": "67730935-aeee-47fd-81bd-d05a79211ad9",
   "metadata": {},
   "outputs": [],
   "source": [
    "ab = []"
   ]
  },
  {
   "cell_type": "code",
   "execution_count": 5,
   "id": "ef2ede9d-5f08-4f73-b752-12aa23b84b47",
   "metadata": {},
   "outputs": [],
   "source": [
    "for i in range(0,len(a)):\n",
    "    ab.append(a[i] * b[i])"
   ]
  },
  {
   "cell_type": "code",
   "execution_count": 6,
   "id": "fcc83cbb-4c60-4298-b4b6-7bea1e7bace0",
   "metadata": {},
   "outputs": [
    {
     "data": {
      "text/plain": [
       "[5, 12, 21, 32]"
      ]
     },
     "execution_count": 6,
     "metadata": {},
     "output_type": "execute_result"
    }
   ],
   "source": [
    "ab"
   ]
  },
  {
   "cell_type": "markdown",
   "id": "4e557936-0550-44a5-a07c-e390e139fb94",
   "metadata": {},
   "source": [
    "## Functional way"
   ]
  },
  {
   "cell_type": "code",
   "execution_count": 7,
   "id": "b7df3c8c-cee0-4546-a0bd-62a91a5534be",
   "metadata": {},
   "outputs": [],
   "source": [
    "import numpy as np"
   ]
  },
  {
   "cell_type": "code",
   "execution_count": 10,
   "id": "01787e9d-f449-4cf1-b4fe-75bb900eead0",
   "metadata": {},
   "outputs": [],
   "source": [
    "a = np.array([1,2,3,4])\n",
    "b = np.array([5,6,7,8])"
   ]
  },
  {
   "cell_type": "code",
   "execution_count": 11,
   "id": "aac5a833-c27b-4827-9ee1-f2c93c643425",
   "metadata": {},
   "outputs": [
    {
     "data": {
      "text/plain": [
       "array([ 5, 12, 21, 32])"
      ]
     },
     "execution_count": 11,
     "metadata": {},
     "output_type": "execute_result"
    }
   ],
   "source": [
    "a*b"
   ]
  },
  {
   "cell_type": "markdown",
   "id": "bb8ef3b1-93a6-46d0-aaa7-11fb9dd9e299",
   "metadata": {},
   "source": [
    "## map-filter-reduce"
   ]
  },
  {
   "cell_type": "code",
   "execution_count": 14,
   "id": "bc9c1771-2cb8-4311-95ca-2801d4e88412",
   "metadata": {},
   "outputs": [],
   "source": [
    "liste = [1,2,3,4,5]"
   ]
  },
  {
   "cell_type": "code",
   "execution_count": 15,
   "id": "be029b89-6638-4597-8199-b239c8768aea",
   "metadata": {},
   "outputs": [
    {
     "data": {
      "text/plain": [
       "[11, 12, 13, 14, 15]"
      ]
     },
     "execution_count": 15,
     "metadata": {},
     "output_type": "execute_result"
    }
   ],
   "source": [
    "list(map(lambda x : x + 10,liste))"
   ]
  },
  {
   "cell_type": "code",
   "execution_count": 16,
   "id": "ca5fc950-fd00-4ecd-8915-bf91eaf746aa",
   "metadata": {},
   "outputs": [],
   "source": [
    "liste = [1,2,3,4,5,6,7,8,9,10]"
   ]
  },
  {
   "cell_type": "code",
   "execution_count": 18,
   "id": "6227827b-c5fb-454e-9e61-ecdf8ba6bdda",
   "metadata": {},
   "outputs": [],
   "source": [
    "even_numbers = list(filter(lambda x : x%2 == 0,liste))"
   ]
  },
  {
   "cell_type": "code",
   "execution_count": 19,
   "id": "f9d2bb21-a432-41ef-8af7-ba4a2995a36b",
   "metadata": {},
   "outputs": [
    {
     "data": {
      "text/plain": [
       "[2, 4, 6, 8, 10]"
      ]
     },
     "execution_count": 19,
     "metadata": {},
     "output_type": "execute_result"
    }
   ],
   "source": [
    "even_numbers"
   ]
  },
  {
   "cell_type": "code",
   "execution_count": 21,
   "id": "a61e6885-f937-4d72-a980-79c0757f6ac8",
   "metadata": {},
   "outputs": [],
   "source": [
    "from functools import reduce"
   ]
  },
  {
   "cell_type": "code",
   "execution_count": 22,
   "id": "bd6c19ef-778c-46b9-9e47-c7a441d84649",
   "metadata": {},
   "outputs": [],
   "source": [
    "liste = [1,2,3,4]\n"
   ]
  },
  {
   "cell_type": "code",
   "execution_count": 23,
   "id": "8032e320-3418-497f-bd04-c558038763c1",
   "metadata": {},
   "outputs": [
    {
     "data": {
      "text/plain": [
       "10"
      ]
     },
     "execution_count": 23,
     "metadata": {},
     "output_type": "execute_result"
    }
   ],
   "source": [
    "reduce(lambda a,b : a+b,liste)"
   ]
  },
  {
   "cell_type": "code",
   "execution_count": null,
   "id": "9a5e6c05-11a1-42f1-986b-a60bec788c81",
   "metadata": {},
   "outputs": [],
   "source": []
  },
  {
   "cell_type": "code",
   "execution_count": null,
   "id": "37a859b1-64f1-4dbf-917b-02f287981d4e",
   "metadata": {},
   "outputs": [],
   "source": []
  },
  {
   "cell_type": "code",
   "execution_count": null,
   "id": "e07b5fce-b88e-41e8-af63-8dac5e154f33",
   "metadata": {},
   "outputs": [],
   "source": []
  },
  {
   "cell_type": "code",
   "execution_count": null,
   "id": "e8fe324a-c8b8-4596-ba1b-cf796a51216d",
   "metadata": {},
   "outputs": [],
   "source": []
  }
 ],
 "metadata": {
  "kernelspec": {
   "display_name": "Python 3 (ipykernel)",
   "language": "python",
   "name": "python3"
  },
  "language_info": {
   "codemirror_mode": {
    "name": "ipython",
    "version": 3
   },
   "file_extension": ".py",
   "mimetype": "text/x-python",
   "name": "python",
   "nbconvert_exporter": "python",
   "pygments_lexer": "ipython3",
   "version": "3.11.7"
  }
 },
 "nbformat": 4,
 "nbformat_minor": 5
}
